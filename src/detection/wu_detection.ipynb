{
 "cells": [
  {
   "cell_type": "code",
   "execution_count": 1,
   "metadata": {},
   "outputs": [],
   "source": [
    "# demo code for high quality text detection"
   ]
  },
  {
   "cell_type": "code",
   "execution_count": 21,
   "metadata": {},
   "outputs": [
    {
     "name": "stderr",
     "output_type": "stream",
     "text": [
      "[nltk_data] Downloading package stopwords to\n",
      "[nltk_data]     C:\\Users\\86183\\AppData\\Roaming\\nltk_data...\n",
      "[nltk_data]   Package stopwords is already up-to-date!\n",
      "[nltk_data] Downloading package punkt to\n",
      "[nltk_data]     C:\\Users\\86183\\AppData\\Roaming\\nltk_data...\n",
      "[nltk_data]   Package punkt is already up-to-date!\n"
     ]
    },
    {
     "data": {
      "text/plain": [
       "True"
      ]
     },
     "execution_count": 21,
     "metadata": {},
     "output_type": "execute_result"
    }
   ],
   "source": [
    "import numpy as np\n",
    "import pandas as pd\n",
    "import matplotlib.pyplot as plt\n",
    "import nltk\n",
    "from nltk.tokenize import word_tokenize, sent_tokenize\n",
    "from nltk.corpus import stopwords\n",
    "from nltk.stem import SnowballStemmer\n",
    "import re\n",
    "from tqdm import tqdm\n",
    "import string\n",
    "from sklearn.model_selection import train_test_split\n",
    "\n",
    "nltk.download('stopwords')\n",
    "nltk.download('punkt')"
   ]
  },
  {
   "cell_type": "code",
   "execution_count": 22,
   "metadata": {},
   "outputs": [
    {
     "name": "stderr",
     "output_type": "stream",
     "text": [
      "C:\\Users\\86183\\AppData\\Local\\Temp\\ipykernel_10036\\3333931622.py:2: DtypeWarning: Columns (5,6) have mixed types. Specify dtype option on import or set low_memory=False.\n",
      "  df_telegram = pd.read_csv(csv_path)\n"
     ]
    }
   ],
   "source": [
    "csv_path = '../../data/telegram/scrape.telegram_forwardsRT30.csv'\n",
    "df_telegram = pd.read_csv(csv_path)\n",
    "df_telegram_copy = df_telegram.copy()"
   ]
  },
  {
   "cell_type": "code",
   "execution_count": 4,
   "metadata": {},
   "outputs": [
    {
     "name": "stdout",
     "output_type": "stream",
     "text": [
      "                        _id                           chat  channel_id  \\\n",
      "0  64f8a6078cac7d75547ac007  https://t.me/helpfulinfoforua  1632507926   \n",
      "1  64f8a6078cac7d75547ac01a  https://t.me/helpfulinfoforua  1632507926   \n",
      "2  64f8a6078cac7d75547ac018  https://t.me/helpfulinfoforua  1632507926   \n",
      "3  64f8a6078cac7d75547ac01c  https://t.me/helpfulinfoforua  1632507926   \n",
      "4  64f8a6078cac7d75547ac015  https://t.me/helpfulinfoforua  1632507926   \n",
      "\n",
      "                update_time      country state city  views  forwards  replies  \\\n",
      "0  2023-09-06T18:17:11.746Z  Switzerland   NaN  NaN   7159        42      124   \n",
      "1  2023-09-06T18:17:11.747Z  Switzerland   NaN  NaN   6026        50       31   \n",
      "2  2023-09-06T18:17:11.747Z  Switzerland   NaN  NaN   3617        58        2   \n",
      "3  2023-09-06T18:17:11.747Z  Switzerland   NaN  NaN   3113        37       11   \n",
      "4  2023-09-06T18:17:11.746Z  Switzerland   NaN  NaN  10435        76      296   \n",
      "\n",
      "   ...  reactions.🍾 reactions.🍓 reactions.💋  reactions.😈  reactions.🤪  \\\n",
      "0  ...          NaN         NaN         NaN          NaN          NaN   \n",
      "1  ...          NaN         NaN         NaN          NaN          NaN   \n",
      "2  ...          NaN         NaN         NaN          NaN          NaN   \n",
      "3  ...          NaN         NaN         NaN          NaN          NaN   \n",
      "4  ...          NaN         NaN         NaN          NaN          NaN   \n",
      "\n",
      "   reactions.🌚  reactions.💘  reactions.🙈  reactions.🖕  reactions.😐  \n",
      "0          NaN          NaN          NaN          NaN          NaN  \n",
      "1          NaN          NaN          NaN          NaN          NaN  \n",
      "2          NaN          NaN          NaN          NaN          NaN  \n",
      "3          NaN          NaN          NaN          NaN          NaN  \n",
      "4          NaN          NaN          NaN          NaN          NaN  \n",
      "\n",
      "[5 rows x 1587 columns]\n"
     ]
    }
   ],
   "source": [
    "df_head_copy = df_telegram_copy.head()\n",
    "print(df_head_copy)"
   ]
  },
  {
   "cell_type": "code",
   "execution_count": 23,
   "metadata": {},
   "outputs": [
    {
     "name": "stdout",
     "output_type": "stream",
     "text": [
      "range1: (31.00, 144.04), count: 3893.0\n",
      "range2: (144.04, 656.41), count: 1846.0\n",
      "range3: (656.41, 2978.77), count: 524.0\n",
      "range4: (2978.77, 13505.03), count: 114.0\n",
      "range5: (13505.03, 61216.00), count: 13.0\n"
     ]
    },
    {
     "data": {
      "image/png": "[encoded data removed]",
      "text/plain": [
       "<Figure size 432x288 with 1 Axes>"
      ]
     },
     "metadata": {
      "needs_background": "light"
     },
     "output_type": "display_data"
    }
   ],
   "source": [
    "forwards_data = df_telegram_copy['forwards']\n",
    "forwards_data_log = np.log1p(forwards_data)\n",
    "counts, bin_edge, _ = plt.hist(forwards_data_log, bins=5, edgecolor='k')\n",
    "plt.xlabel('Forwards')\n",
    "plt.ylabel('Frequency')\n",
    "plt.title('Forwards distribution')\n",
    "plt.grid(True)\n",
    "\n",
    "# print range and number\n",
    "for i in range(len(counts)):\n",
    "    start = bin_edge[i]\n",
    "    end = bin_edge[i+1]\n",
    "    start_ = np.expm1(start)\n",
    "    end_ = np.expm1(end)\n",
    "    count = counts[i]\n",
    "    print(f\"range{i+1}: ({start_:.2f}, {end_:.2f}), count: {count}\")\n",
    "\n",
    "plt.show()"
   ]
  },
  {
   "cell_type": "markdown",
   "metadata": {},
   "source": [
    "数据清洗"
   ]
  },
  {
   "cell_type": "code",
   "execution_count": 24,
   "metadata": {},
   "outputs": [
    {
     "data": {
      "text/html": [
       "<div>\n",
       "<style scoped>\n",
       "    .dataframe tbody tr th:only-of-type {\n",
       "        vertical-align: middle;\n",
       "    }\n",
       "\n",
       "    .dataframe tbody tr th {\n",
       "        vertical-align: top;\n",
       "    }\n",
       "\n",
       "    .dataframe thead th {\n",
       "        text-align: right;\n",
       "    }\n",
       "</style>\n",
       "<table border=\"1\" class=\"dataframe\">\n",
       "  <thead>\n",
       "    <tr style=\"text-align: right;\">\n",
       "      <th></th>\n",
       "      <th>_id</th>\n",
       "      <th>chat</th>\n",
       "      <th>channel_id</th>\n",
       "      <th>update_time</th>\n",
       "      <th>country</th>\n",
       "      <th>state</th>\n",
       "      <th>city</th>\n",
       "      <th>views</th>\n",
       "      <th>forwards</th>\n",
       "      <th>replies</th>\n",
       "      <th>...</th>\n",
       "      <th>reactions.🍾</th>\n",
       "      <th>reactions.🍓</th>\n",
       "      <th>reactions.💋</th>\n",
       "      <th>reactions.😈</th>\n",
       "      <th>reactions.🤪</th>\n",
       "      <th>reactions.🌚</th>\n",
       "      <th>reactions.💘</th>\n",
       "      <th>reactions.🙈</th>\n",
       "      <th>reactions.🖕</th>\n",
       "      <th>reactions.😐</th>\n",
       "    </tr>\n",
       "  </thead>\n",
       "  <tbody>\n",
       "    <tr>\n",
       "      <th>0</th>\n",
       "      <td>64f8a6078cac7d75547ac007</td>\n",
       "      <td>https://t.me/helpfulinfoforua</td>\n",
       "      <td>1632507926</td>\n",
       "      <td>2023-09-06T18:17:11.746Z</td>\n",
       "      <td>Switzerland</td>\n",
       "      <td>NaN</td>\n",
       "      <td>NaN</td>\n",
       "      <td>7159</td>\n",
       "      <td>42</td>\n",
       "      <td>124</td>\n",
       "      <td>...</td>\n",
       "      <td>NaN</td>\n",
       "      <td>NaN</td>\n",
       "      <td>NaN</td>\n",
       "      <td>NaN</td>\n",
       "      <td>NaN</td>\n",
       "      <td>NaN</td>\n",
       "      <td>NaN</td>\n",
       "      <td>NaN</td>\n",
       "      <td>NaN</td>\n",
       "      <td>NaN</td>\n",
       "    </tr>\n",
       "    <tr>\n",
       "      <th>1</th>\n",
       "      <td>64f8a6078cac7d75547ac01a</td>\n",
       "      <td>https://t.me/helpfulinfoforua</td>\n",
       "      <td>1632507926</td>\n",
       "      <td>2023-09-06T18:17:11.747Z</td>\n",
       "      <td>Switzerland</td>\n",
       "      <td>NaN</td>\n",
       "      <td>NaN</td>\n",
       "      <td>6026</td>\n",
       "      <td>50</td>\n",
       "      <td>31</td>\n",
       "      <td>...</td>\n",
       "      <td>NaN</td>\n",
       "      <td>NaN</td>\n",
       "      <td>NaN</td>\n",
       "      <td>NaN</td>\n",
       "      <td>NaN</td>\n",
       "      <td>NaN</td>\n",
       "      <td>NaN</td>\n",
       "      <td>NaN</td>\n",
       "      <td>NaN</td>\n",
       "      <td>NaN</td>\n",
       "    </tr>\n",
       "    <tr>\n",
       "      <th>2</th>\n",
       "      <td>64f8a6078cac7d75547ac018</td>\n",
       "      <td>https://t.me/helpfulinfoforua</td>\n",
       "      <td>1632507926</td>\n",
       "      <td>2023-09-06T18:17:11.747Z</td>\n",
       "      <td>Switzerland</td>\n",
       "      <td>NaN</td>\n",
       "      <td>NaN</td>\n",
       "      <td>3617</td>\n",
       "      <td>58</td>\n",
       "      <td>2</td>\n",
       "      <td>...</td>\n",
       "      <td>NaN</td>\n",
       "      <td>NaN</td>\n",
       "      <td>NaN</td>\n",
       "      <td>NaN</td>\n",
       "      <td>NaN</td>\n",
       "      <td>NaN</td>\n",
       "      <td>NaN</td>\n",
       "      <td>NaN</td>\n",
       "      <td>NaN</td>\n",
       "      <td>NaN</td>\n",
       "    </tr>\n",
       "    <tr>\n",
       "      <th>3</th>\n",
       "      <td>64f8a6078cac7d75547ac01c</td>\n",
       "      <td>https://t.me/helpfulinfoforua</td>\n",
       "      <td>1632507926</td>\n",
       "      <td>2023-09-06T18:17:11.747Z</td>\n",
       "      <td>Switzerland</td>\n",
       "      <td>NaN</td>\n",
       "      <td>NaN</td>\n",
       "      <td>3113</td>\n",
       "      <td>37</td>\n",
       "      <td>11</td>\n",
       "      <td>...</td>\n",
       "      <td>NaN</td>\n",
       "      <td>NaN</td>\n",
       "      <td>NaN</td>\n",
       "      <td>NaN</td>\n",
       "      <td>NaN</td>\n",
       "      <td>NaN</td>\n",
       "      <td>NaN</td>\n",
       "      <td>NaN</td>\n",
       "      <td>NaN</td>\n",
       "      <td>NaN</td>\n",
       "    </tr>\n",
       "    <tr>\n",
       "      <th>4</th>\n",
       "      <td>64f8a6078cac7d75547ac015</td>\n",
       "      <td>https://t.me/helpfulinfoforua</td>\n",
       "      <td>1632507926</td>\n",
       "      <td>2023-09-06T18:17:11.746Z</td>\n",
       "      <td>Switzerland</td>\n",
       "      <td>NaN</td>\n",
       "      <td>NaN</td>\n",
       "      <td>10435</td>\n",
       "      <td>76</td>\n",
       "      <td>296</td>\n",
       "      <td>...</td>\n",
       "      <td>NaN</td>\n",
       "      <td>NaN</td>\n",
       "      <td>NaN</td>\n",
       "      <td>NaN</td>\n",
       "      <td>NaN</td>\n",
       "      <td>NaN</td>\n",
       "      <td>NaN</td>\n",
       "      <td>NaN</td>\n",
       "      <td>NaN</td>\n",
       "      <td>NaN</td>\n",
       "    </tr>\n",
       "  </tbody>\n",
       "</table>\n",
       "<p>5 rows × 1587 columns</p>\n",
       "</div>"
      ],
      "text/plain": [
       "                        _id                           chat  channel_id  \\\n",
       "0  64f8a6078cac7d75547ac007  https://t.me/helpfulinfoforua  1632507926   \n",
       "1  64f8a6078cac7d75547ac01a  https://t.me/helpfulinfoforua  1632507926   \n",
       "2  64f8a6078cac7d75547ac018  https://t.me/helpfulinfoforua  1632507926   \n",
       "3  64f8a6078cac7d75547ac01c  https://t.me/helpfulinfoforua  1632507926   \n",
       "4  64f8a6078cac7d75547ac015  https://t.me/helpfulinfoforua  1632507926   \n",
       "\n",
       "                update_time      country state city  views  forwards  replies  \\\n",
       "0  2023-09-06T18:17:11.746Z  Switzerland   NaN  NaN   7159        42      124   \n",
       "1  2023-09-06T18:17:11.747Z  Switzerland   NaN  NaN   6026        50       31   \n",
       "2  2023-09-06T18:17:11.747Z  Switzerland   NaN  NaN   3617        58        2   \n",
       "3  2023-09-06T18:17:11.747Z  Switzerland   NaN  NaN   3113        37       11   \n",
       "4  2023-09-06T18:17:11.746Z  Switzerland   NaN  NaN  10435        76      296   \n",
       "\n",
       "   ...  reactions.🍾 reactions.🍓 reactions.💋  reactions.😈  reactions.🤪  \\\n",
       "0  ...          NaN         NaN         NaN          NaN          NaN   \n",
       "1  ...          NaN         NaN         NaN          NaN          NaN   \n",
       "2  ...          NaN         NaN         NaN          NaN          NaN   \n",
       "3  ...          NaN         NaN         NaN          NaN          NaN   \n",
       "4  ...          NaN         NaN         NaN          NaN          NaN   \n",
       "\n",
       "   reactions.🌚  reactions.💘  reactions.🙈  reactions.🖕  reactions.😐  \n",
       "0          NaN          NaN          NaN          NaN          NaN  \n",
       "1          NaN          NaN          NaN          NaN          NaN  \n",
       "2          NaN          NaN          NaN          NaN          NaN  \n",
       "3          NaN          NaN          NaN          NaN          NaN  \n",
       "4          NaN          NaN          NaN          NaN          NaN  \n",
       "\n",
       "[5 rows x 1587 columns]"
      ]
     },
     "execution_count": 24,
     "metadata": {},
     "output_type": "execute_result"
    }
   ],
   "source": [
    "# 数据清洗\n",
    "\n",
    "# stopwords, add ukrainian stopwords from .txt file\n",
    "stopWords = stopwords.words('english') \n",
    "for word in stopwords.words('german'):\n",
    "    stopWords.append(word)\n",
    "for word in stopwords.words('french'):\n",
    "    stopWords.append(word)\n",
    "for word in stopwords.words('italian'):\n",
    "    stopWords.append(word)\n",
    "for word in stopwords.words('russian'):\n",
    "    stopWords.append(word)\n",
    "with open(\"../../data/stopwords/stopwords_ua.txt\") as file: #add ukrainian stopwords loaded from .txt file\n",
    "    ukrstopWords = [line.rstrip() for line in file]\n",
    "for stopwords in ukrstopWords:\n",
    "    stopWords.append(stopwords)\n",
    "    \n",
    "def remove_stopwords(text):\n",
    "    new_text = []\n",
    "    for word in text.split():\n",
    "        if word in stopWords:\n",
    "            continue\n",
    "        else:\n",
    "            new_text.append(word)\n",
    "    return ''.join(new_text)\n",
    "    \n",
    "# lowercasing\n",
    "def concert_lowercase(text):\n",
    "    text = text.lower()\n",
    "    return text\n",
    "\n",
    "# removing HTML Tags\n",
    "def remove_html(text):\n",
    "    remove_ = re.compile('<.*?')\n",
    "    return re.sub(remove_, r'', text)\n",
    "\n",
    "# removing URLs\n",
    "def remove_url(text):\n",
    "    re_url = re.compile('https?://\\S+|www\\.\\S+')\n",
    "    return re_url.sub('', text)\n",
    "\n",
    "# removing emojis, from git\n",
    "def remove_emojis(text):\n",
    "    emoji_pattern = re.compile(pattern = \"[\"\n",
    "        u\"\\U0001F600-\\U0001F64F\"  # emoticons\n",
    "        u\"\\U0001F300-\\U0001F5FF\"  # symbols & pictographs\n",
    "        u\"\\U0001F680-\\U0001F6FF\"  # transport & map symbols\n",
    "        u\"\\U0001F700-\\U0001F77F\"  # alchemical symbols\n",
    "        u\"\\U0001F780-\\U0001F7FF\"  # Geometric Shapes Extended\n",
    "        u\"\\U0001F800-\\U0001F8FF\"  # Supplemental Arrows-C\n",
    "        u\"\\U0001F900-\\U0001F9FF\"  # Supplemental Symbols and Pictographs\n",
    "        u\"\\U0001FA00-\\U0001FA6F\"  # Chess Symbols\n",
    "        u\"\\U0001FA70-\\U0001FAFF\"  # Symbols and Pictographs Extended-A\n",
    "        u\"\\U00002702-\\U000027B0\"  # Dingbats\n",
    "        u\"\\U000024C2-\\U0001F251\"  \n",
    "        \"]+\", flags = re.UNICODE)\n",
    "    return emoji_pattern.sub(r'', text)\n",
    "\n",
    "# removing punctuations\n",
    "exclude = string.punctuation\n",
    "def remove_punc(text):\n",
    "    return text.translate(str.maketrans('', '', exclude))\n",
    "\n",
    "# tokenization \n",
    "def tokenize(text):\n",
    "    new_text = sent_tokenize(text)\n",
    "    return new_text\n",
    "\n",
    "def clean_telegram(df):\n",
    "    return df.apply(remove_stopwords).apply(concert_lowercase).apply(remove_html).apply(remove_url).apply(remove_emojis).apply(remove_punc).str.join('').apply(tokenize)\n",
    "\n",
    "df_telegram_copy['messageText'] = clean_telegram(df_telegram_copy['messageText']).apply(lambda x: ' '.join(x))\n",
    "df_telegram_copy.head()"
   ]
  },
  {
   "cell_type": "markdown",
   "metadata": {},
   "source": [
    "手动划分标签"
   ]
  },
  {
   "cell_type": "code",
   "execution_count": 26,
   "metadata": {},
   "outputs": [
    {
     "name": "stdout",
     "output_type": "stream",
     "text": [
      "   forwards                                        messageText  label\n",
      "0        42  вітаємоканалікорисноhelpfulшвейцарськогочервон...      0\n",
      "1        50  якіпропозиціїпідтримкивашомукантоніnнасайтіhel...      0\n",
      "2        58  якоформитисамозайнятістьшвейцаріїстатусомsnnnп...      0\n",
      "3        37  •якіспортивнікультурнізаходидітейпідлітківдоро...      0\n",
      "4        76  дорогіучасникигрупиnnрадіоголоситидругачастина...      0\n",
      "range1: (0.0, 307.1), count: 3065.0\n",
      "range2: (307.1, 614.2), count: 1664.0\n",
      "range3: (614.2, 921.3000000000001), count: 782.0\n",
      "range4: (921.3000000000001, 1228.4), count: 300.0\n",
      "range5: (1228.4, 1535.5), count: 268.0\n",
      "range6: (1535.5, 1842.6000000000001), count: 97.0\n",
      "range7: (1842.6000000000001, 2149.7000000000003), count: 81.0\n",
      "range8: (2149.7000000000003, 2456.8), count: 49.0\n",
      "range9: (2456.8, 2763.9), count: 54.0\n",
      "range10: (2763.9, 3071.0), count: 30.0\n"
     ]
    },
    {
     "data": {
      "image/png": "[encoded data removed]",
      "text/plain": [
       "<Figure size 432x288 with 1 Axes>"
      ]
     },
     "metadata": {
      "needs_background": "light"
     },
     "output_type": "display_data"
    },
    {
     "name": "stdout",
     "output_type": "stream",
     "text": [
      "3071\n"
     ]
    }
   ],
   "source": [
    "threshold_quality = 2500\n",
    "df_telegram_copy['label'] = df_telegram_copy['forwards'].apply(lambda x: 1 if x >= threshold_quality else 0)\n",
    "# df_telegram_copy.head()\n",
    "\n",
    "df_clean = df_telegram_copy[['forwards', 'messageText', 'label']]\n",
    "print(df_clean.head())\n",
    "file_name='../../data/telegram/preproceed_data.csv'\n",
    "df_clean.to_csv(file_name, index=False)\n",
    "\n",
    "text_lengths = [len(text) for text in df_clean['messageText']]\n",
    "bin_counts, bin_edges, _ = plt.hist(text_lengths, bins=10, edgecolor='k')\n",
    "plt.xlabel('Text Length')\n",
    "plt.ylabel('Frequency')\n",
    "plt.title('Distribution of Text Lengths in messageText Column')\n",
    "plt.grid(True)\n",
    "for i in range(len(bin_counts)):\n",
    "    start = bin_edges[i]\n",
    "    end = bin_edges[i + 1]\n",
    "    count = bin_counts[i]\n",
    "    print(f\"range{i+1}: ({start}, {end}), count: {count}\")\n",
    "plt.show()\n",
    "\n",
    "print(df_clean['messageText'].str.len().max())"
   ]
  },
  {
   "cell_type": "markdown",
   "metadata": {},
   "source": [
    "pytorch regression"
   ]
  },
  {
   "cell_type": "code",
   "execution_count": 10,
   "metadata": {},
   "outputs": [
    {
     "name": "stderr",
     "output_type": "stream",
     "text": [
      "Some weights of the model checkpoint at bert-base-uncased were not used when initializing BertModel: ['cls.predictions.transform.dense.weight', 'cls.predictions.decoder.weight', 'cls.seq_relationship.weight', 'cls.predictions.transform.LayerNorm.weight', 'cls.predictions.transform.dense.bias', 'cls.seq_relationship.bias', 'cls.predictions.bias', 'cls.predictions.transform.LayerNorm.bias']\n",
      "- This IS expected if you are initializing BertModel from the checkpoint of a model trained on another task or with another architecture (e.g. initializing a BertForSequenceClassification model from a BertForPreTraining model).\n",
      "- This IS NOT expected if you are initializing BertModel from the checkpoint of a model that you expect to be exactly identical (initializing a BertForSequenceClassification model from a BertForSequenceClassification model).\n"
     ]
    }
   ],
   "source": [
    "import torch\n",
    "import torch.nn as nn\n",
    "import torch.optim as optim\n",
    "from transformers import BertTokenizer, AdamW, BertModel\n",
    "from torch.utils.data import DataLoader, TensorDataset\n",
    "from sklearn.model_selection import train_test_split\n",
    "from sklearn.metrics import mean_squared_error, mean_absolute_error\n",
    "import numpy as np\n",
    "import pandas as pd\n",
    "\n",
    "df_clean = pd.read_csv('../../data/telegram/preproceed_data.csv')\n",
    "# devide training and validation dataset\n",
    "X_train, X_val, y_train, y_val = train_test_split(df_clean['messageText'], df_clean['forwards'], test_size=0.2, random_state = 24)\n",
    "\n",
    "# tokenize with pretrained model\n",
    "max_length = 1024\n",
    "tokenizer = BertTokenizer.from_pretrained(\"bert-base-ukrainian-cased\")\n",
    "X_train_encode = tokenizer(list(X_train), truncation=True, padding=True, max_length=max_length, return_tensors=\"pt\")\n",
    "X_val_encode = tokenizer(list(X_val), truncation=True, padding=True, max_length=max_length, return_tensors=\"pt\")\n",
    "\n",
    "train_dateset = TensorDataset(X_train_encode[\"input_ids\"], X_train_encode[\"attention_mask\"], torch.tensor(y_train.values, dtype=torch.float32))\n",
    "val_dataset = TensorDataset(X_val_encode[\"input_ids\"], X_val_encode[\"attention_mask\"], torch.tensor(y_val.values, dtype=torch.float32))\n",
    "\n",
    "batch_size = 32\n",
    "train_loader = DataLoader(train_dateset, batch_size=batch_size, shuffle=True)\n",
    "val_loader = DataLoader(val_dataset, batch_size=batch_size)\n",
    "\n",
    "# regression model\n",
    "class RegressionModel(nn.Module):\n",
    "    def __init__(self):\n",
    "        super(RegressionModel, self).__init__()\n",
    "        self.bert = BertModel.from_pretrained(\"bert-base-ukrainian-cased\")\n",
    "        self.dropout = nn.Dropout(0.2)\n",
    "        self.linear = nn.Linear(768, 1)\n",
    "\n",
    "    def forward(self, input_ids, attention_mask):\n",
    "        output = self.bert(input_ids, attention_mask=attention_mask)\n",
    "        output = output.pooler_output\n",
    "        output = self.dropout(output)\n",
    "        logits = self.linear(output)\n",
    "        return logits\n",
    "\n",
    "model = RegressionModel()\n",
    "\n",
    "Loss = nn.MSELoss()\n",
    "optimizer = optim.AdamW(model.parameters(), lr=2e-5)\n",
    "\n",
    "# train model\n",
    "device = torch.device(\"cuda\" if torch.cuda.is_available() else \"cpu\")\n",
    "model.to(device)\n",
    "epochs = 5\n",
    "\n",
    "def train_model(epochs, train_loader, val_loader):\n",
    "    training_loss = []\n",
    "    validating_loss = []\n",
    "\n",
    "    for epoch in range(epochs):\n",
    "        model.train()\n",
    "        running_loss = 0.0\n",
    "        for batch in train_loader:\n",
    "            input_ids, attention_mask, labels = batch\n",
    "            input_ids, attention_mask, labels = input_ids.to(device), attention_mask.to(device), labels.to(device)\n",
    "            \n",
    "            optimizer.zero_grad()\n",
    "            outputs = model(input_ids, attention_mask)\n",
    "            loss = Loss(outputs.squeeze(1), labels)\n",
    "            loss.backward()\n",
    "            optimizer.step()\n",
    "            \n",
    "            running_loss += loss.item()\n",
    "        \n",
    "        epoch_loss = running_loss / len(train_loader)\n",
    "        training_loss.append(epoch_loss)\n",
    "        print(f\"Epoch {epoch + 1}/{epochs}, Loss: {epoch_loss:.4f}\")\n",
    "\n",
    "        # evaluate model\n",
    "        model.eval()\n",
    "        val_loss = 0.0\n",
    "        predictions = []\n",
    "\n",
    "        with torch.no_grad():\n",
    "            for batch in val_loader:\n",
    "                input_ids, attention_mask, labels = batch\n",
    "                input_ids, attention_mask, labels = input_ids.to(device), attention_mask.to(device), labels.to(device)\n",
    "                \n",
    "                outputs = model(input_ids, attention_mask)\n",
    "                loss = Loss(outputs.squeeze(1), labels)\n",
    "                val_loss += loss.item()\n",
    "                \n",
    "                predictions.extend(outputs.cpu().squeeze(1).numpy())\n",
    "\n",
    "        val_loss /= len(val_loader)\n",
    "        validating_loss.append(val_loss)\n",
    "        print(f\"Validation Loss: {val_loss:.4f}\")\n",
    "\n",
    "        # evaluation matrics\n",
    "        predictions = np.array(predictions)\n",
    "        mse = mean_squared_error(y_val, predictions)\n",
    "        mae = mean_absolute_error(y_val, predictions)\n",
    "\n",
    "        print(f\"Mean Squared Error: {mse:.4f}\")\n",
    "        print(f\"Mean Absolute Error: {mae:.4f}\")\n",
    "    \n",
    "    return model, training_loss, validating_loss, predictions\n",
    "\n",
    "def plot_loss(training_loss, validating_loss):\n",
    "    plt.figure(figsize=(10, 5))\n",
    "    plt.plot(range(1, len(training_loss) + 1), training_loss, label='Training Loss', marker='o')\n",
    "    plt.plot(range(1, len(validating_loss) + 1), validating_loss, label='Validation Loss', marker='o')\n",
    "    plt.xlabel('Epochs')\n",
    "    plt.ylabel('Loss')\n",
    "    plt.title('Training and Validation Loss')\n",
    "    plt.legend()\n",
    "    plt.grid(True)\n",
    "    plt.show()\n",
    "    \n",
    "def plot_scatter(y_val, predictions):\n",
    "    predictions = np.array(predictions)\n",
    "    y_val = np.array(y_val)\n",
    "    plt.figure(figsize=(10, 6))\n",
    "    plt.scatter(y_val, predictions, c='blue', alpha=0.5)\n",
    "    plt.title('Scatter Plot of Predictions vs Real Values')\n",
    "    plt.xlabel('Real Values')\n",
    "    plt.ylabel('Predicted Values')\n",
    "    plt.grid(True)\n",
    "    plt.show()\n",
    "    "
   ]
  },
  {
   "cell_type": "code",
   "execution_count": 12,
   "metadata": {},
   "outputs": [
    {
     "name": "stdout",
     "output_type": "stream",
     "text": [
      "Epoch 1/5, Loss: 2945318.2323\n",
      "Validation Loss: 994527.0432\n",
      "Mean Squared Error: 995865.5656\n",
      "Mean Absolute Error: 302.3334\n",
      "Epoch 2/5, Loss: 2927516.3415\n",
      "Validation Loss: 991992.1431\n",
      "Mean Squared Error: 993329.6759\n",
      "Mean Absolute Error: 298.1050\n",
      "Epoch 3/5, Loss: 2925007.2335\n",
      "Validation Loss: 990410.0837\n",
      "Mean Squared Error: 991747.0969\n",
      "Mean Absolute Error: 295.4382\n",
      "Epoch 4/5, Loss: 2924161.7178\n",
      "Validation Loss: 989088.2758\n",
      "Mean Squared Error: 990424.7768\n",
      "Mean Absolute Error: 293.1920\n",
      "Epoch 5/5, Loss: 2921691.3137\n",
      "Validation Loss: 987838.1685\n",
      "Mean Squared Error: 989174.2008\n",
      "Mean Absolute Error: 291.0512\n"
     ]
    },
    {
     "data": {
      "image/png": "[encoded data removed]",
      "text/plain": [
       "<Figure size 720x360 with 1 Axes>"
      ]
     },
     "metadata": {
      "needs_background": "light"
     },
     "output_type": "display_data"
    },
    {
     "data": {
      "image/png": "[encoded data removed]",
      "text/plain": [
       "<Figure size 720x432 with 1 Axes>"
      ]
     },
     "metadata": {
      "needs_background": "light"
     },
     "output_type": "display_data"
    }
   ],
   "source": [
    "# train model\n",
    "model_bert_32_5, training_loss, validating_loss, predictions = train_model(epochs, train_loader, val_loader)\n",
    "\n",
    "# plot\n",
    "plot_loss(training_loss, validating_loss)\n",
    "plot_scatter(y_val, predictions)"
   ]
  },
  {
   "cell_type": "code",
   "execution_count": 9,
   "metadata": {},
   "outputs": [],
   "source": [
    "torch.save(model_bert_32_5.state_dict(), 'bert_regression_model_01.pth')"
   ]
  }
 ],
 "metadata": {
  "kernelspec": {
   "display_name": "IML",
   "language": "python",
   "name": "python3"
  },
  "language_info": {
   "codemirror_mode": {
    "name": "ipython",
    "version": 3
   },
   "file_extension": ".py",
   "mimetype": "text/x-python",
   "name": "python",
   "nbconvert_exporter": "python",
   "pygments_lexer": "ipython3",
   "version": "3.8.12"
  },
  "orig_nbformat": 4
 },
 "nbformat": 4,
 "nbformat_minor": 2
}
