{
 "cells": [
  {
   "cell_type": "code",
   "execution_count": 1,
   "metadata": {},
   "outputs": [],
   "source": [
    "# demo code for high quality text detection"
   ]
  },
  {
   "cell_type": "code",
   "execution_count": 9,
   "metadata": {},
   "outputs": [
    {
     "name": "stderr",
     "output_type": "stream",
     "text": [
      "[nltk_data] Downloading package stopwords to\n",
      "[nltk_data]     C:\\Users\\86183\\AppData\\Roaming\\nltk_data...\n",
      "[nltk_data]   Package stopwords is already up-to-date!\n",
      "[nltk_data] Downloading package punkt to\n",
      "[nltk_data]     C:\\Users\\86183\\AppData\\Roaming\\nltk_data...\n",
      "[nltk_data]   Package punkt is already up-to-date!\n"
     ]
    },
    {
     "data": {
      "text/plain": [
       "True"
      ]
     },
     "execution_count": 9,
     "metadata": {},
     "output_type": "execute_result"
    }
   ],
   "source": [
    "import numpy as np\n",
    "import pandas as pd\n",
    "import matplotlib.pyplot as plt\n",
    "import nltk\n",
    "from nltk.tokenize import word_tokenize, sent_tokenize\n",
    "from nltk.corpus import stopwords\n",
    "import re\n",
    "from sklearn.model_selection import train_test_split\n",
    "\n",
    "nltk.download('stopwords')\n",
    "nltk.download('punkt')"
   ]
  },
  {
   "cell_type": "code",
   "execution_count": 10,
   "metadata": {},
   "outputs": [
    {
     "name": "stdout",
     "output_type": "stream",
     "text": [
      "                            chat      country state city  views  forwards  \\\n",
      "0  https://t.me/helpfulinfoforua  Switzerland   NaN  NaN   7159        42   \n",
      "1  https://t.me/helpfulinfoforua  Switzerland   NaN  NaN   6026        50   \n",
      "2  https://t.me/helpfulinfoforua  Switzerland   NaN  NaN   3617        58   \n",
      "3  https://t.me/helpfulinfoforua  Switzerland   NaN  NaN  10435        76   \n",
      "4  https://t.me/helpfulinfoforua  Switzerland   NaN  NaN   4374        61   \n",
      "\n",
      "   replies                                        messageText predicted_class  \\\n",
      "0      124  👋Вітаємо на каналі КОРИСНО (HELPFUL) Швейцарсь...    Volunteering   \n",
      "1       31  Які пропозиції підтримки є у Вашому кантоні? \\...    Volunteering   \n",
      "2        2  Як оформити самозайнятість в Швейцарії зі стат...     Integration   \n",
      "3      296  Дорогі учасники групи,\\n\\nРаді оголосити, що д...    Volunteering   \n",
      "4        8  🔸Статус захисту S надає право працювати у Швей...    Volunteering   \n",
      "\n",
      "  messageDate  \n",
      "0  2022-07-14  \n",
      "1  2023-05-22  \n",
      "2  2023-05-22  \n",
      "3  2022-09-29  \n",
      "4  2023-05-22  \n"
     ]
    }
   ],
   "source": [
    "csv_path = '../../data/telegram/scrape.telegram_forwardsRT30.csv'\n",
    "df_telegram = pd.read_csv(csv_path)\n",
    "df_telegram_copy = df_telegram.copy()\n",
    "\n",
    "df_head_copy = df_telegram_copy.head()\n",
    "print(df_head_copy)"
   ]
  },
  {
   "cell_type": "code",
   "execution_count": 15,
   "metadata": {},
   "outputs": [
    {
     "name": "stdout",
     "output_type": "stream",
     "text": [
      "range1: (31.00, 61.84), count: 1020.0\n",
      "range2: (61.84, 122.41), count: 707.0\n",
      "range3: (122.41, 241.35), count: 445.0\n",
      "range4: (241.35, 474.92), count: 196.0\n",
      "range5: (474.92, 933.60), count: 127.0\n",
      "range6: (933.60, 1834.35), count: 65.0\n",
      "range7: (1834.35, 3603.24), count: 34.0\n",
      "range8: (3603.24, 7076.98), count: 27.0\n",
      "range9: (7076.98, 13898.66), count: 10.0\n",
      "range10: (13898.66, 27295.00), count: 5.0\n"
     ]
    },
    {
     "data": {
      "image/png": "[encoded data removed]",
      "text/plain": [
       "<Figure size 432x288 with 1 Axes>"
      ]
     },
     "metadata": {
      "needs_background": "light"
     },
     "output_type": "display_data"
    }
   ],
   "source": [
    "forwards_data = df_telegram_copy['forwards']\n",
    "forwards_data_log = np.log1p(forwards_data)\n",
    "counts, bin_edge, _ = plt.hist(forwards_data_log, bins=10, edgecolor='k')\n",
    "plt.xlabel('Forwards')\n",
    "plt.ylabel('Frequency')\n",
    "plt.title('Forwards distribution')\n",
    "plt.grid(True)\n",
    "\n",
    "# print range and number\n",
    "for i in range(len(counts)):\n",
    "    start = bin_edge[i]\n",
    "    end = bin_edge[i+1]\n",
    "    start_ = np.expm1(start)\n",
    "    end_ = np.expm1(end)\n",
    "    count = counts[i]\n",
    "    print(f\"range{i+1}: ({start_:.2f}, {end_:.2f}), count: {count}\")\n",
    "\n",
    "plt.show()"
   ]
  },
  {
   "cell_type": "markdown",
   "metadata": {},
   "source": [
    "Data preprocessing\n"
   ]
  },
  {
   "cell_type": "code",
   "execution_count": 4,
   "metadata": {},
   "outputs": [],
   "source": [
    "# stopwords, add ukrainian stopwords from .txt file\n",
    "stopWords = stopwords.words('english') \n",
    "for word in stopwords.words('german'):\n",
    "    stopWords.append(word)\n",
    "for word in stopwords.words('french'):\n",
    "    stopWords.append(word)\n",
    "for word in stopwords.words('italian'):\n",
    "    stopWords.append(word)\n",
    "for word in stopwords.words('russian'):\n",
    "    stopWords.append(word)\n",
    "with open(\"../../data/stopwords/stopwords_ua.txt\") as file: #add ukrainian stopwords loaded from .txt file\n",
    "    ukrstopWords = [line.rstrip() for line in file]\n",
    "for stopwords in ukrstopWords:\n",
    "    stopWords.append(stopwords)"
   ]
  },
  {
   "cell_type": "code",
   "execution_count": 11,
   "metadata": {},
   "outputs": [
    {
     "name": "stdout",
     "output_type": "stream",
     "text": [
      "👋Вітаємо на каналі КОРИСНО (HELPFUL) Швейцарського Червоного Хреста.\\nМи — група волонтерів, яка допоможе вам знайти відповіді на ваші запитання. Ми намагаємось відповідати впродовж 24 годин. Відповіді на запитання надаються з понеділка по п’ятницю. \\n\\nПерш ніж поставити своє запитання, просимо вас спочатку переглянути веб-сайт КОРИСНО (HELPFUL): helpful.redcross.ch\\n\\nНа цьому каналі можна використовувати українську, російську, англійську та державні мови Швейцарії. Ми відповідатимемо здебільшого державними мовами Швейцарії та пропонуватимемо перекласти наші відповіді. Для цього скористайтеся функцією «перекладу», яку пропонує Telegram. Указівки та коментарі наведено нижче.\\n\\n⚠️Оскільки це публічний канал, ваші коментарі бачитимуть всі бажаючі.\\nЯкщо у вас є запитання, що передбачає розкриття особистої інформації, просимо вас додати в коментарі значок ✉️.\\nТоді ми надішлемо вам приватне повідомлення в зашифрованому чаті.\\n\\n📍Відповіді на деякі питання були надані в приватних повідомленнях. Просимо вас писати під відповідними секціями в основному каналі. \\n\\n____\\n\\n👋Добро пожаловать на канал HELPFUL Швейцарского Красного Креста. \\nМы - команда волонтеров и готовы помочь вам найти ответы на ваши вопросы. Мы стараемся давать ответы в течение 24 часов. Мы будем отвечать на ваши вопросы с понедельника по пятницу.  \\n\\nПрежде чем задать свой вопрос, просим вас сначала заглянуть на сайт HELPFUL: helpful.redcross.ch.\\n\\nНа этом канале используются украинский, русский, английский или швейцарские государственные языки. Мы будем отвечать преимущественно на языках, используемых в Швейцарии, и просим вас переводить наши ответы.  Для этого воспользуйтесь опцией \"перевести\", имеющейся в Telegram. Смотрите инструкции в комментариях ниже. \\n\\n⚠️Поскольку этот канал является публичным, ваши комментарии сможет увидеть каждый.\\nЕсли у вас есть вопрос, подразумевающий предоставления каких-то личных данных, просим вас отправить значок ✉️ в комментарии.\\nПосле этого мы отправим вам личное сообщение в защищенном чате.\\n\\n___\\n\\n👋 Welcome to the channel HELPFUL by the Swiss Red Cross.\\nWe are a team of volunteers and will help you find answers to your questions. We aim to respond within 24 hours. The questions will be answered from Monday to Friday. \\n\\nBefore asking your question, we ask you to please first check the HELPFUL website: helpful.redcross.ch\\n\\nThe languages used in this channel are Ukrainian, Russian, English or the Swiss national languages. We will mainly answer using the Swiss national languages and ask you to translate our answers. To do this please use the option “translate” provided by Telegram. See instructions in the comments below.\\n\\n⚠️ As this channel is public, your comments will be seen by everyone.\\nIf you have a question that requires sharing some personal data, we ask you to send the icon ✉️ in the comment.\\nWe will then send you a private message in a secured chat.\\n\\n📍Some answers are provided in private messages. We also please ask you to write under the appropriate sections in the main channel.\n",
      "вітаємо каналі корисно helpful швейцарського червоного хрестаnми  група волонтерів допоможе знайти відповіді запитання ми намагаємось відповідати 24 годин відповіді запитання надаються понеділка пятницю nnперш поставити запитання просимо переглянути вебсайт корисно helpful helpfulredcrosschnnна каналі використовувати українську російську англійську державні мови швейцарії ми відповідатимемо здебільшого державними мовами швейцарії пропонуватимемо перекласти відповіді для скористайтеся функцією перекладу пропонує telegram указівки коментарі наведено нижчеnnоскільки публічний канал коментарі бачитимуть бажаючіnякщо запитання передбачає розкриття особистої інформації просимо додати коментарі значок nтоді надішлемо приватне повідомлення зашифрованому чатіnnвідповіді питання надані приватних повідомленнях просимо писати відповідними секціями основному каналі nn____nnдобро пожаловать канал helpful швейцарского красного креста nмы  команда волонтеров готовы помочь найти ответы вопросы мы стараемся давать ответы течение 24 часов мы отвечать вопросы понедельника пятницу nnпрежде задать вопрос просим заглянуть сайт helpful helpfulredcrosschnnна канале используются украинский русский английский швейцарские государственные языки мы отвечать преимущественно языках используемых швейцарии просим переводить ответы для воспользуйтесь опцией перевести имеющейся telegram смотрите инструкции комментариях ниже nnпоскольку канал является публичным комментарии увидеть каждыйnесли вопрос подразумевающий предоставления какихто личных данных просим отправить значок  комментарииnпосле отправим личное сообщение защищенном чатеnn___nn welcome channel helpful swiss red crossnwe team volunteers help find answers questions we aim respond 24 hours the questions answered monday friday nnbefore asking question ask check helpful website helpfulredcrosschnnthe languages channel ukrainian russian english swiss national languages we mainly answer swiss national languages ask translate answers to use option translate provided telegram see instructions comments belownn as channel public comments seen everyonenif question requires sharing personal data ask send icon  commentnwe send private message secured chatnnsome answers provided private messages we ask write appropriate sections main channel\n"
     ]
    }
   ],
   "source": [
    "print(df_telegram_copy['messageText'][0])\n",
    "\n",
    "# removing stopwords\n",
    "def remove_stopwords(text):\n",
    "    if len(text) > 50:\n",
    "        new_text = []\n",
    "        for word in text.split():\n",
    "            if word in stopWords:\n",
    "                continue\n",
    "            else:\n",
    "                new_text.append(word)\n",
    "        return ' '.join(new_text)\n",
    "    else:\n",
    "        return text\n",
    "\n",
    "# removing HTML Tags\n",
    "def remove_html(text):\n",
    "    if len(text) > 50:\n",
    "        remove_ = re.compile('<.*?')\n",
    "        return re.sub(remove_, r'', text)\n",
    "    else:\n",
    "        return text\n",
    "\n",
    "# removing URLs\n",
    "def remove_url(text):\n",
    "    if len(text) > 50:\n",
    "        re_url = re.compile('https?://\\S+|www\\.\\S+')\n",
    "        return re_url.sub('', text)\n",
    "    else:\n",
    "        return text\n",
    "\n",
    "# removing emojis, from git\n",
    "def remove_emojis(text):\n",
    "    if len(text) > 50:\n",
    "        emoji_pattern = re.compile(pattern=\"[\"\n",
    "            u\"\\U0001F600-\\U0001F64F\"  # emoticons\n",
    "            u\"\\U0001F300-\\U0001F5FF\"  # symbols & pictographs\n",
    "            u\"\\U0001F680-\\U0001F6FF\"  # transport & map symbols\n",
    "            u\"\\U0001F700-\\U0001F77F\"  # alchemical symbols\n",
    "            u\"\\U0001F780-\\U0001F7FF\"  # Geometric Shapes Extended\n",
    "            u\"\\U0001F800-\\U0001F8FF\"  # Supplemental Arrows-C\n",
    "            u\"\\U0001F900-\\U0001F9FF\"  # Supplemental Symbols and Pictographs\n",
    "            u\"\\U0001FA00-\\U0001FA6F\"  # Chess Symbols\n",
    "            u\"\\U0001FA70-\\U0001FAFF\"  # Symbols and Pictographs Extended-A\n",
    "            u\"\\U00002702-\\U000027B0\"  # Dingbats\n",
    "            u\"\\U000024C2-\\U0001F251\"\n",
    "            \"]+\", flags=re.UNICODE)\n",
    "        return emoji_pattern.sub(r'', text)\n",
    "    else:\n",
    "        return text\n",
    "\n",
    "# lowercasing\n",
    "def convert_lowercase(text):\n",
    "    if len(text) > 50:\n",
    "        text = text.lower()\n",
    "        return text\n",
    "    else:\n",
    "        return text\n",
    "\n",
    "# removing punctuation\n",
    "def remove_punctuation(text):\n",
    "    text = re.sub(r'[^\\w\\s]', '', text)\n",
    "    return text\n",
    "\n",
    "# # tokenization \n",
    "# def tokenize(text):\n",
    "#     if len(text) > 50:\n",
    "#         text = text.replace(\"\\n\", \" \")\n",
    "#         text = sent_tokenize(text)\n",
    "#         return text\n",
    "#     else:\n",
    "#         return text\n",
    "\n",
    "df_telegram_copy['messageText'] = df_telegram_copy['messageText'].apply(remove_stopwords).apply(remove_html).apply(remove_url).apply(remove_emojis).apply(convert_lowercase).apply(remove_punctuation)\n",
    "\n",
    "print(df_telegram_copy['messageText'][0])"
   ]
  },
  {
   "cell_type": "markdown",
   "metadata": {},
   "source": [
    "Manual marking and split dataset"
   ]
  },
  {
   "cell_type": "code",
   "execution_count": 31,
   "metadata": {},
   "outputs": [],
   "source": [
    "# manual marking\n",
    "threshold_quality = 60\n",
    "df_telegram_copy['label'] = df_telegram_copy['forwards'].apply(lambda x: 1 if x >= threshold_quality else 0)\n",
    "\n",
    "# split train and validation\n",
    "X_train, X_val, y_train, y_val = train_test_split(df_telegram_copy['messageText'], df_telegram_copy['label'], test_size=0.2, random_state=24)"
   ]
  },
  {
   "cell_type": "markdown",
   "metadata": {},
   "source": [
    "Logistic Regression"
   ]
  },
  {
   "cell_type": "code",
   "execution_count": 32,
   "metadata": {},
   "outputs": [
    {
     "name": "stdout",
     "output_type": "stream",
     "text": [
      "Validation Accuracy: 0.7311\n",
      "Validation F1 Score: 0.8189\n"
     ]
    },
    {
     "data": {
      "image/png": "[encoded data removed]",
      "text/plain": [
       "<Figure size 432x288 with 1 Axes>"
      ]
     },
     "metadata": {
      "needs_background": "light"
     },
     "output_type": "display_data"
    },
    {
     "data": {
      "image/png": "[encoded data removed]",
      "text/plain": [
       "<Figure size 576x432 with 1 Axes>"
      ]
     },
     "metadata": {
      "needs_background": "light"
     },
     "output_type": "display_data"
    }
   ],
   "source": [
    "from sklearn.model_selection import train_test_split\n",
    "from sklearn.feature_extraction.text import TfidfVectorizer\n",
    "from sklearn.linear_model import LogisticRegression\n",
    "from sklearn.metrics import accuracy_score, f1_score, roc_curve, auc, precision_recall_curve\n",
    "\n",
    "def logistic_regression(X_train, y_train, X_val, y_val, max_features=5000):\n",
    "    # use TF-IDF to vectorize data\n",
    "    tfidf_vectorizer = TfidfVectorizer(max_features=max_features)\n",
    "    X_train_tfidf = tfidf_vectorizer.fit_transform(X_train)\n",
    "    X_val_tfidf = tfidf_vectorizer.transform(X_val)\n",
    "\n",
    "    # train logistic regression model\n",
    "    logistic_regression = LogisticRegression()\n",
    "    logistic_regression.fit(X_train_tfidf, y_train)\n",
    "\n",
    "    # predict on validation\n",
    "    val_predictions = logistic_regression.predict(X_val_tfidf)\n",
    "\n",
    "    # evaluate the model\n",
    "    val_accuracy = accuracy_score(y_val, val_predictions)\n",
    "    val_f1 = f1_score(y_val, val_predictions)\n",
    "\n",
    "    print(f\"Validation Accuracy: {val_accuracy:.4f}\")\n",
    "    print(f\"Validation F1 Score: {val_f1:.4f}\")\n",
    "\n",
    "    # generate the ROC curve\n",
    "    fpr, tpr, _ = roc_curve(y_val, logistic_regression.predict_proba(X_val_tfidf)[:,1])\n",
    "    roc_auc = auc(fpr, tpr)\n",
    "\n",
    "    # plot ROC curve\n",
    "    plt.figure()\n",
    "    plt.plot(fpr, tpr, color='red', lw=2, label='ROC curve (area = %0.2f)' % roc_auc)\n",
    "    plt.plot([0, 1], [0, 1], color='blue', lw=2, linestyle='--')\n",
    "    plt.xlim([0.0, 1.0])\n",
    "    plt.ylim([0.0, 1.05])\n",
    "    plt.xlabel('False Positive Rate')\n",
    "    plt.ylabel('True Positive Rate')\n",
    "    plt.title('ROC')\n",
    "    plt.legend(loc='lower right')\n",
    "    plt.show()\n",
    "\n",
    "    # generate the precision-recall curve\n",
    "    precision, recall, _ = precision_recall_curve(y_val, logistic_regression.predict_proba(X_val_tfidf)[:, 1])\n",
    "\n",
    "    # plot precision-recall curve\n",
    "    plt.figure(figsize=(8, 6))\n",
    "    plt.plot(recall, precision, color='green', lw=2, label='Precision-Recall curve')\n",
    "    plt.xlabel('Recall')\n",
    "    plt.ylabel('Precision')\n",
    "    plt.title('Precision-Recall Curve')\n",
    "    plt.legend(loc='lower left')\n",
    "    plt.show()\n",
    "    \n",
    "logistic_regression(X_train, y_train, X_val, y_val, max_features=5000)    \n"
   ]
  },
  {
   "cell_type": "markdown",
   "metadata": {},
   "source": [
    "Random Forest Classifier"
   ]
  },
  {
   "cell_type": "code",
   "execution_count": 33,
   "metadata": {},
   "outputs": [
    {
     "name": "stdout",
     "output_type": "stream",
     "text": [
      "Random Forest Validation Accuracy: 0.7992\n",
      "Random Forest Validation F1 Score: 0.8548\n"
     ]
    },
    {
     "data": {
      "image/png": "[encoded data removed]",
      "text/plain": [
       "<Figure size 432x288 with 1 Axes>"
      ]
     },
     "metadata": {
      "needs_background": "light"
     },
     "output_type": "display_data"
    },
    {
     "data": {
      "image/png": "[encoded data removed]",
      "text/plain": [
       "<Figure size 576x432 with 1 Axes>"
      ]
     },
     "metadata": {
      "needs_background": "light"
     },
     "output_type": "display_data"
    }
   ],
   "source": [
    "from sklearn.model_selection import train_test_split\n",
    "from sklearn.feature_extraction.text import TfidfVectorizer\n",
    "from sklearn.ensemble import RandomForestClassifier\n",
    "from sklearn.metrics import accuracy_score, f1_score, roc_curve, auc, precision_recall_curve\n",
    "import matplotlib.pyplot as plt\n",
    "\n",
    "def random_forest_classifier(X_train, y_train, X_val, y_val, max_features=5000, n_estimators=100, random_state=24):\n",
    "    # use TF-IDF to vectorize data\n",
    "    tfidf_vectorizer = TfidfVectorizer(max_features=max_features)\n",
    "    X_train_tfidf = tfidf_vectorizer.fit_transform(X_train)\n",
    "    X_val_tfidf = tfidf_vectorizer.transform(X_val)\n",
    "\n",
    "    # create and train the Random Forest model\n",
    "    random_forest = RandomForestClassifier(n_estimators=n_estimators, random_state=random_state)\n",
    "    random_forest.fit(X_train_tfidf, y_train)\n",
    "\n",
    "    # predict on validation\n",
    "    val_predictions_rf = random_forest.predict(X_val_tfidf)\n",
    "\n",
    "    # evaluate the model\n",
    "    val_accuracy_rf = accuracy_score(y_val, val_predictions_rf)\n",
    "    val_f1_rf = f1_score(y_val, val_predictions_rf)\n",
    "\n",
    "    print(f\"Random Forest Validation Accuracy: {val_accuracy_rf:.4f}\")\n",
    "    print(f\"Random Forest Validation F1 Score: {val_f1_rf:.4f}\")\n",
    "\n",
    "    # generate the ROC curve\n",
    "    fpr, tpr, _ = roc_curve(y_val, random_forest.predict_proba(X_val_tfidf)[:, 1])\n",
    "    roc_auc = auc(fpr, tpr)\n",
    "\n",
    "    # plot ROC curve\n",
    "    plt.figure()\n",
    "    plt.plot(fpr, tpr, color='red', lw=2, label='ROC curve (area = %0.2f)' % roc_auc)\n",
    "    plt.plot([0, 1], [0, 1], color='blue', lw=2, linestyle='--')\n",
    "    plt.xlim([0.0, 1.0])\n",
    "    plt.ylim([0.0, 1.05])\n",
    "    plt.xlabel('False Positive Rate')\n",
    "    plt.ylabel('True Positive Rate')\n",
    "    plt.title('ROC')\n",
    "    plt.legend(loc='lower right')\n",
    "    plt.show()\n",
    "\n",
    "    # generate the precision-recall curve\n",
    "    precision, recall, _ = precision_recall_curve(y_val, random_forest.predict_proba(X_val_tfidf)[:, 1])\n",
    "\n",
    "    # plot precision-recall curve\n",
    "    plt.figure(figsize=(8, 6))\n",
    "    plt.plot(recall, precision, color='green', lw=2, label='Precision-Recall curve')\n",
    "    plt.xlabel('Recall')\n",
    "    plt.ylabel('Precision')\n",
    "    plt.title('Precision-Recall Curve')\n",
    "    plt.legend(loc='lower left')\n",
    "    plt.show()\n",
    "\n",
    "random_forest_classifier(X_train, y_train, X_val, y_val, max_features=5000, n_estimators=100, random_state=24)"
   ]
  },
  {
   "cell_type": "markdown",
   "metadata": {},
   "source": [
    "Pretrained Bert Model"
   ]
  },
  {
   "cell_type": "code",
   "execution_count": 36,
   "metadata": {},
   "outputs": [
    {
     "name": "stderr",
     "output_type": "stream",
     "text": [
      "Some weights of the model checkpoint at bert-base-multilingual-cased were not used when initializing BertForSequenceClassification: ['cls.seq_relationship.weight', 'cls.predictions.decoder.weight', 'cls.predictions.transform.LayerNorm.bias', 'cls.predictions.transform.dense.weight', 'cls.predictions.transform.LayerNorm.weight', 'cls.seq_relationship.bias', 'cls.predictions.transform.dense.bias', 'cls.predictions.bias']\n",
      "- This IS expected if you are initializing BertForSequenceClassification from the checkpoint of a model trained on another task or with another architecture (e.g. initializing a BertForSequenceClassification model from a BertForPreTraining model).\n",
      "- This IS NOT expected if you are initializing BertForSequenceClassification from the checkpoint of a model that you expect to be exactly identical (initializing a BertForSequenceClassification model from a BertForSequenceClassification model).\n",
      "Some weights of BertForSequenceClassification were not initialized from the model checkpoint at bert-base-multilingual-cased and are newly initialized: ['classifier.bias', 'classifier.weight']\n",
      "You should probably TRAIN this model on a down-stream task to be able to use it for predictions and inference.\n"
     ]
    }
   ],
   "source": [
    "import torch\n",
    "import torch.nn as nn\n",
    "import torch.optim as optim\n",
    "from transformers import BertTokenizer, BertModel, BertForSequenceClassification\n",
    "from torch.utils.data import DataLoader, TensorDataset\n",
    "from sklearn.model_selection import train_test_split\n",
    "from sklearn.metrics import accuracy_score, f1_score\n",
    "import numpy as np\n",
    "import pandas as pd\n",
    "\n",
    "# manual label\n",
    "threshold_quality = 60\n",
    "df_telegram_copy['label'] = df_telegram_copy['forwards'].apply(lambda x: 1 if x >= threshold_quality else 0)\n",
    "\n",
    "# split train and validation\n",
    "X_train, X_val, y_train, y_val = train_test_split(df_telegram_copy['messageText'], df_telegram_copy['label'], test_size=0.2, random_state=24)\n",
    "\n",
    "# pytorch dataset\n",
    "tokenizer = BertTokenizer.from_pretrained(\"bert-base-multilingual-cased\")\n",
    "\n",
    "train_dataset = tokenizer(list(X_train), padding=True, truncation=True, return_tensors=\"pt\", max_length=512)\n",
    "val_dataset = tokenizer(list(X_val), padding=True, truncation=True, return_tensors=\"pt\", max_length=512)\n",
    "\n",
    "train_labels = torch.tensor(y_train.values, dtype=torch.long)\n",
    "val_labels = torch.tensor(y_val.values, dtype=torch.long)\n",
    "\n",
    "train_data = TensorDataset(train_dataset[\"input_ids\"], train_dataset[\"attention_mask\"], train_labels)\n",
    "val_data = TensorDataset(val_dataset[\"input_ids\"], val_dataset[\"attention_mask\"], val_labels)\n",
    "\n",
    "batch_size = 32\n",
    "train_loader = DataLoader(train_data, batch_size=batch_size, shuffle=True)\n",
    "val_loader = DataLoader(val_data, batch_size=batch_size)\n",
    "\n",
    "# classification model\n",
    "class ClassificationModel(nn.Module):\n",
    "    def __init__(self, num_labels):\n",
    "        super(ClassificationModel, self).__init__()\n",
    "        self.bert = BertForSequenceClassification.from_pretrained(\"bert-base-multilingual-cased\", num_labels=num_labels)\n",
    "\n",
    "    def forward(self, input_ids, attention_mask):\n",
    "        output = self.bert(input_ids, attention_mask=attention_mask)\n",
    "        return output.logits\n",
    "\n",
    "model = ClassificationModel(num_labels=2)\n",
    "Loss = nn.CrossEntropyLoss()\n",
    "optimizer = optim.AdamW(model.parameters(), lr=2e-5)\n",
    "\n",
    "# train model\n",
    "# device = torch.device(\"cuda\" if torch.cuda.is_available() else \"cpu\")\n",
    "device = torch.device(\"cpu\")\n",
    "model.to(device)\n",
    "epochs = 10\n",
    "\n",
    "def train_model(epochs, train_loader, val_loader):\n",
    "    training_loss = []\n",
    "    validating_loss = []\n",
    "    f1_scores = []\n",
    "\n",
    "    for epoch in range(epochs):\n",
    "        model.train()\n",
    "        running_loss = 0.0\n",
    "        for batch in train_loader:\n",
    "            input_ids, attention_mask, labels = batch\n",
    "            input_ids, attention_mask, labels = input_ids.to(device), attention_mask.to(device), labels.to(device)\n",
    "            \n",
    "            optimizer.zero_grad()\n",
    "            outputs = model(input_ids, attention_mask)\n",
    "            loss = Loss(outputs, labels)\n",
    "            loss.backward()\n",
    "            optimizer.step()\n",
    "            \n",
    "            running_loss += loss.item()\n",
    "        \n",
    "        epoch_loss = running_loss / len(train_loader)\n",
    "        training_loss.append(epoch_loss)\n",
    "        print(f\"Epoch {epoch + 1}/{epochs}, Loss: {epoch_loss:.4f}\")\n",
    "\n",
    "        # eval model\n",
    "        model.eval()\n",
    "        val_loss = 0.0\n",
    "        predictions = []\n",
    "        targets = []\n",
    "        \n",
    "        with torch.no_grad():\n",
    "            for batch in val_loader:\n",
    "                input_ids, attention_mask, labels = batch\n",
    "                input_ids, attention_mask, labels = input_ids.to(device), attention_mask.to(device), labels.to(device)\n",
    "                \n",
    "                outputs = model(input_ids, attention_mask)\n",
    "                loss = Loss(outputs.logit, labels)\n",
    "                val_loss += loss.item()\n",
    "                \n",
    "                predictions.extend(outputs.cpu().squeeze(1).numpy())\n",
    "                targets.extend(labels.cpu().numpy())\n",
    "\n",
    "        val_loss /= len(val_loader)\n",
    "        validating_loss.append(val_loss)\n",
    "        print(f\"Validation Loss: {val_loss:.4f}\")\n",
    "\n",
    "        # metrics\n",
    "        predictions = np.array(predictions)\n",
    "        targets = np.array(targets)\n",
    "        val_f1 = f1_score(targets, predictions)\n",
    "        f1_scores.append(val_f1)\n",
    "        print(f\"Validation F1 Score: {val_f1:.4f}\")\n",
    "\n",
    "    return model, training_loss, validating_loss, predictions, f1_scores\n",
    "\n",
    "def plot_loss(training_loss, validating_loss):\n",
    "    plt.figure(figsize=(10, 5))\n",
    "    plt.plot(range(1, len(training_loss) + 1), training_loss, label='Training Loss', marker='o')\n",
    "    plt.plot(range(1, len(validating_loss) + 1), validating_loss, label='Validation Loss', marker='o')\n",
    "    plt.xlabel('Epochs')\n",
    "    plt.ylabel('Loss')\n",
    "    plt.title('Training and Validation Loss')\n",
    "    plt.legend()\n",
    "    plt.grid(True)\n",
    "    plt.show()\n",
    "    \n",
    "def plot_f1(f1):\n",
    "    f1 = np.array(f1)\n",
    "    plt.figure(figsize=(10, 5))\n",
    "    plt.plot(range(1, epochs + 1), f1, label='Validation F1 Score', marker='o')\n",
    "    plt.xlabel('Epochs')\n",
    "    plt.ylabel('F1 Score')\n",
    "    plt.title('Validation F1 Score Over Epochs')\n",
    "    plt.grid(True)\n",
    "    plt.show()\n",
    "    "
   ]
  },
  {
   "cell_type": "code",
   "execution_count": 37,
   "metadata": {},
   "outputs": [],
   "source": [
    "# train model\n",
    "model_bert_32_10, training_loss, validating_loss, predictions, f1_score = train_model(epochs, train_loader, val_loader)\n",
    "\n",
    "# plot\n",
    "plot_loss(training_loss, validating_loss)\n",
    "plot_f1(f1_score)\n",
    "# torch.save(model_bert_32_10.state_dict(), 'bert_regression_model_01.pth')"
   ]
  },
  {
   "cell_type": "code",
   "execution_count": null,
   "metadata": {},
   "outputs": [],
   "source": []
  }
 ],
 "metadata": {
  "kernelspec": {
   "display_name": "IML",
   "language": "python",
   "name": "python3"
  },
  "language_info": {
   "codemirror_mode": {
    "name": "ipython",
    "version": 3
   },
   "file_extension": ".py",
   "mimetype": "text/x-python",
   "name": "python",
   "nbconvert_exporter": "python",
   "pygments_lexer": "ipython3",
   "version": "3.8.12"
  },
  "orig_nbformat": 4
 },
 "nbformat": 4,
 "nbformat_minor": 2
}
