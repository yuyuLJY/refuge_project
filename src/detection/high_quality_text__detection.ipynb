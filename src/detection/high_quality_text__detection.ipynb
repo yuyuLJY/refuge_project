{
 "cells": [
  {
   "cell_type": "code",
   "execution_count": 1,
   "metadata": {},
   "outputs": [],
   "source": [
    "# demo code for high quality text detection"
   ]
  },
  {
   "cell_type": "code",
   "execution_count": 1,
   "metadata": {},
   "outputs": [
    {
     "name": "stderr",
     "output_type": "stream",
     "text": [
      "[nltk_data] Downloading package stopwords to\n",
      "[nltk_data]     C:\\Users\\86183\\AppData\\Roaming\\nltk_data...\n",
      "[nltk_data]   Package stopwords is already up-to-date!\n",
      "[nltk_data] Downloading package punkt to\n",
      "[nltk_data]     C:\\Users\\86183\\AppData\\Roaming\\nltk_data...\n",
      "[nltk_data]   Package punkt is already up-to-date!\n"
     ]
    },
    {
     "data": {
      "text/plain": [
       "True"
      ]
     },
     "execution_count": 1,
     "metadata": {},
     "output_type": "execute_result"
    }
   ],
   "source": [
    "import numpy as np\n",
    "import pandas as pd\n",
    "import matplotlib.pyplot as plt\n",
    "import nltk\n",
    "from nltk.tokenize import word_tokenize, sent_tokenize\n",
    "from nltk.corpus import stopwords\n",
    "from nltk.stem import SnowballStemmer\n",
    "import re\n",
    "from tqdm import tqdm\n",
    "import string\n",
    "from sklearn.model_selection import train_test_split\n",
    "\n",
    "nltk.download('stopwords')\n",
    "nltk.download('punkt')"
   ]
  },
  {
   "cell_type": "code",
   "execution_count": 2,
   "metadata": {},
   "outputs": [
    {
     "name": "stdout",
     "output_type": "stream",
     "text": [
      "                            chat      country state city  views  forwards  \\\n",
      "0  https://t.me/helpfulinfoforua  Switzerland   NaN  NaN   7159        42   \n",
      "1  https://t.me/helpfulinfoforua  Switzerland   NaN  NaN   6026        50   \n",
      "2  https://t.me/helpfulinfoforua  Switzerland   NaN  NaN   3617        58   \n",
      "3  https://t.me/helpfulinfoforua  Switzerland   NaN  NaN  10435        76   \n",
      "4  https://t.me/helpfulinfoforua  Switzerland   NaN  NaN   4374        61   \n",
      "\n",
      "   replies                                        messageText predicted_class  \\\n",
      "0      124  👋Вітаємо на каналі КОРИСНО (HELPFUL) Швейцарсь...    Volunteering   \n",
      "1       31  Які пропозиції підтримки є у Вашому кантоні? \\...    Volunteering   \n",
      "2        2  Як оформити самозайнятість в Швейцарії зі стат...     Integration   \n",
      "3      296  Дорогі учасники групи,\\n\\nРаді оголосити, що д...    Volunteering   \n",
      "4        8  🔸Статус захисту S надає право працювати у Швей...    Volunteering   \n",
      "\n",
      "  messageDate  \n",
      "0  2022-07-14  \n",
      "1  2023-05-22  \n",
      "2  2023-05-22  \n",
      "3  2022-09-29  \n",
      "4  2023-05-22  \n"
     ]
    }
   ],
   "source": [
    "csv_path = '../../data/telegram/scrape.telegram_forwardsRT30.csv'\n",
    "df_telegram = pd.read_csv(csv_path)\n",
    "df_telegram_copy = df_telegram.copy()\n",
    "\n",
    "df_head_copy = df_telegram_copy.head()\n",
    "print(df_head_copy)"
   ]
  },
  {
   "cell_type": "code",
   "execution_count": 3,
   "metadata": {},
   "outputs": [
    {
     "name": "stdout",
     "output_type": "stream",
     "text": [
      "range1: (31.00, 122.41), count: 1727.0\n",
      "range2: (122.41, 474.92), count: 641.0\n",
      "range3: (474.92, 1834.35), count: 192.0\n",
      "range4: (1834.35, 7076.98), count: 61.0\n",
      "range5: (7076.98, 27295.00), count: 15.0\n"
     ]
    },
    {
     "data": {
      "image/png": "[encoded data removed]",
      "text/plain": [
       "<Figure size 432x288 with 1 Axes>"
      ]
     },
     "metadata": {
      "needs_background": "light"
     },
     "output_type": "display_data"
    }
   ],
   "source": [
    "forwards_data = df_telegram_copy['forwards']\n",
    "forwards_data_log = np.log1p(forwards_data)\n",
    "counts, bin_edge, _ = plt.hist(forwards_data_log, bins=5, edgecolor='k')\n",
    "plt.xlabel('Forwards')\n",
    "plt.ylabel('Frequency')\n",
    "plt.title('Forwards distribution')\n",
    "plt.grid(True)\n",
    "\n",
    "# print range and number\n",
    "for i in range(len(counts)):\n",
    "    start = bin_edge[i]\n",
    "    end = bin_edge[i+1]\n",
    "    start_ = np.expm1(start)\n",
    "    end_ = np.expm1(end)\n",
    "    count = counts[i]\n",
    "    print(f\"range{i+1}: ({start_:.2f}, {end_:.2f}), count: {count}\")\n",
    "\n",
    "plt.show()"
   ]
  },
  {
   "cell_type": "markdown",
   "metadata": {},
   "source": [
    "数据清洗"
   ]
  },
  {
   "cell_type": "code",
   "execution_count": 4,
   "metadata": {},
   "outputs": [],
   "source": [
    "# stopwords, add ukrainian stopwords from .txt file\n",
    "stopWords = stopwords.words('english') \n",
    "for word in stopwords.words('german'):\n",
    "    stopWords.append(word)\n",
    "for word in stopwords.words('french'):\n",
    "    stopWords.append(word)\n",
    "for word in stopwords.words('italian'):\n",
    "    stopWords.append(word)\n",
    "for word in stopwords.words('russian'):\n",
    "    stopWords.append(word)\n",
    "with open(\"../../data/stopwords/stopwords_ua.txt\") as file: #add ukrainian stopwords loaded from .txt file\n",
    "    ukrstopWords = [line.rstrip() for line in file]\n",
    "for stopwords in ukrstopWords:\n",
    "    stopWords.append(stopwords)"
   ]
  },
  {
   "cell_type": "code",
   "execution_count": 5,
   "metadata": {},
   "outputs": [
    {
     "name": "stdout",
     "output_type": "stream",
     "text": [
      "👋Вітаємо на каналі КОРИСНО (HELPFUL) Швейцарського Червоного Хреста.\\nМи — група волонтерів, яка допоможе вам знайти відповіді на ваші запитання. Ми намагаємось відповідати впродовж 24 годин. Відповіді на запитання надаються з понеділка по п’ятницю. \\n\\nПерш ніж поставити своє запитання, просимо вас спочатку переглянути веб-сайт КОРИСНО (HELPFUL): helpful.redcross.ch\\n\\nНа цьому каналі можна використовувати українську, російську, англійську та державні мови Швейцарії. Ми відповідатимемо здебільшого державними мовами Швейцарії та пропонуватимемо перекласти наші відповіді. Для цього скористайтеся функцією «перекладу», яку пропонує Telegram. Указівки та коментарі наведено нижче.\\n\\n⚠️Оскільки це публічний канал, ваші коментарі бачитимуть всі бажаючі.\\nЯкщо у вас є запитання, що передбачає розкриття особистої інформації, просимо вас додати в коментарі значок ✉️.\\nТоді ми надішлемо вам приватне повідомлення в зашифрованому чаті.\\n\\n📍Відповіді на деякі питання були надані в приватних повідомленнях. Просимо вас писати під відповідними секціями в основному каналі. \\n\\n____\\n\\n👋Добро пожаловать на канал HELPFUL Швейцарского Красного Креста. \\nМы - команда волонтеров и готовы помочь вам найти ответы на ваши вопросы. Мы стараемся давать ответы в течение 24 часов. Мы будем отвечать на ваши вопросы с понедельника по пятницу.  \\n\\nПрежде чем задать свой вопрос, просим вас сначала заглянуть на сайт HELPFUL: helpful.redcross.ch.\\n\\nНа этом канале используются украинский, русский, английский или швейцарские государственные языки. Мы будем отвечать преимущественно на языках, используемых в Швейцарии, и просим вас переводить наши ответы.  Для этого воспользуйтесь опцией \"перевести\", имеющейся в Telegram. Смотрите инструкции в комментариях ниже. \\n\\n⚠️Поскольку этот канал является публичным, ваши комментарии сможет увидеть каждый.\\nЕсли у вас есть вопрос, подразумевающий предоставления каких-то личных данных, просим вас отправить значок ✉️ в комментарии.\\nПосле этого мы отправим вам личное сообщение в защищенном чате.\\n\\n___\\n\\n👋 Welcome to the channel HELPFUL by the Swiss Red Cross.\\nWe are a team of volunteers and will help you find answers to your questions. We aim to respond within 24 hours. The questions will be answered from Monday to Friday. \\n\\nBefore asking your question, we ask you to please first check the HELPFUL website: helpful.redcross.ch\\n\\nThe languages used in this channel are Ukrainian, Russian, English or the Swiss national languages. We will mainly answer using the Swiss national languages and ask you to translate our answers. To do this please use the option “translate” provided by Telegram. See instructions in the comments below.\\n\\n⚠️ As this channel is public, your comments will be seen by everyone.\\nIf you have a question that requires sharing some personal data, we ask you to send the icon ✉️ in the comment.\\nWe will then send you a private message in a secured chat.\\n\\n📍Some answers are provided in private messages. We also please ask you to write under the appropriate sections in the main channel.\n",
      "['вітаємо каналі корисно helpful швейцарського червоного хрестаnми — група волонтерів допоможе знайти відповіді запитання', 'ми намагаємось відповідати 24 годин', 'відповіді запитання надаються понеділка п’ятницю', 'nnперш поставити запитання просимо переглянути вебсайт корисно helpful helpfulredcrosschnnна каналі використовувати українську російську англійську державні мови швейцарії', 'ми відповідатимемо здебільшого державними мовами швейцарії пропонуватимемо перекласти відповіді', 'для скористайтеся функцією «перекладу» пропонує telegram', 'указівки коментарі наведено нижчеnnоскільки публічний канал коментарі бачитимуть бажаючіnякщо запитання передбачає розкриття особистої інформації просимо додати коментарі значок nтоді надішлемо приватне повідомлення зашифрованому чатіnnвідповіді питання надані приватних повідомленнях', 'просимо писати відповідними секціями основному каналі', 'nnnnдобро пожаловать канал helpful швейцарского красного креста', 'nмы  команда волонтеров готовы помочь найти ответы вопросы', 'мы стараемся давать ответы течение 24 часов', 'мы отвечать вопросы понедельника пятницу', 'nnпрежде задать вопрос просим заглянуть сайт helpful helpfulredcrosschnnна канале используются украинский русский английский швейцарские государственные языки', 'мы отвечать преимущественно языках используемых швейцарии просим переводить ответы', 'для воспользуйтесь опцией перевести имеющейся telegram', 'смотрите инструкции комментариях ниже', 'nnпоскольку канал является публичным комментарии увидеть каждыйnесли вопрос подразумевающий предоставления какихто личных данных просим отправить значок  комментарииnпосле отправим личное сообщение защищенном чатеnnnn welcome channel helpful swiss red crossnwe team volunteers help find answers questions', 'we aim respond 24 hours', 'the questions answered monday friday', 'nnbefore asking question ask check helpful website helpfulredcrosschnnthe languages channel ukrainian russian english swiss national languages', 'we mainly answer swiss national languages ask translate answers', 'to use option “translate” provided telegram', 'see instructions comments belownn as channel public comments seen everyonenif question requires sharing personal data ask send icon  commentnwe send private message secured chatnnsome answers provided private messages', 'we ask write appropriate sections main channel']\n"
     ]
    }
   ],
   "source": [
    "print(df_telegram_copy['messageText'][0])\n",
    "\n",
    "# removing stopwords\n",
    "def remove_stopwords(text):\n",
    "    if len(text) > 50:\n",
    "        new_text = []\n",
    "        for word in text.split():\n",
    "            if word in stopWords:\n",
    "                continue\n",
    "            else:\n",
    "                new_text.append(word)\n",
    "        return ' '.join(new_text)\n",
    "    else:\n",
    "        return text\n",
    "\n",
    "# removing HTML Tags\n",
    "def remove_html(text):\n",
    "    if len(text) > 50:\n",
    "        remove_ = re.compile('<.*?')\n",
    "        return re.sub(remove_, r'', text)\n",
    "    else:\n",
    "        return text\n",
    "\n",
    "# removing URLs\n",
    "def remove_url(text):\n",
    "    if len(text) > 50:\n",
    "        re_url = re.compile('https?://\\S+|www\\.\\S+')\n",
    "        return re_url.sub('', text)\n",
    "    else:\n",
    "        return text\n",
    "\n",
    "# removing emojis, from git\n",
    "def remove_emojis(text):\n",
    "    if len(text) > 50:\n",
    "        emoji_pattern = re.compile(pattern=\"[\"\n",
    "            u\"\\U0001F600-\\U0001F64F\"  # emoticons\n",
    "            u\"\\U0001F300-\\U0001F5FF\"  # symbols & pictographs\n",
    "            u\"\\U0001F680-\\U0001F6FF\"  # transport & map symbols\n",
    "            u\"\\U0001F700-\\U0001F77F\"  # alchemical symbols\n",
    "            u\"\\U0001F780-\\U0001F7FF\"  # Geometric Shapes Extended\n",
    "            u\"\\U0001F800-\\U0001F8FF\"  # Supplemental Arrows-C\n",
    "            u\"\\U0001F900-\\U0001F9FF\"  # Supplemental Symbols and Pictographs\n",
    "            u\"\\U0001FA00-\\U0001FA6F\"  # Chess Symbols\n",
    "            u\"\\U0001FA70-\\U0001FAFF\"  # Symbols and Pictographs Extended-A\n",
    "            u\"\\U00002702-\\U000027B0\"  # Dingbats\n",
    "            u\"\\U000024C2-\\U0001F251\"\n",
    "            \"]+\", flags=re.UNICODE)\n",
    "        return emoji_pattern.sub(r'', text)\n",
    "    else:\n",
    "        return text\n",
    "\n",
    "# lowercasing\n",
    "def convert_lowercase(text):\n",
    "    if len(text) > 50:\n",
    "        text = text.lower()\n",
    "        return text\n",
    "    else:\n",
    "        return text\n",
    "\n",
    "# removing punctuation\n",
    "def remove_punctuation(sentences):\n",
    "    cleaned_sentences = []\n",
    "    translator = str.maketrans('', '', string.punctuation)\n",
    "    for sentence in sentences:\n",
    "        cleaned_sentence = sentence.translate(translator)\n",
    "        cleaned_sentences.append(cleaned_sentence)\n",
    "    return cleaned_sentences\n",
    "\n",
    "# tokenization \n",
    "def tokenize(text):\n",
    "    if len(text) > 50:\n",
    "        text = text.replace(\"\\n\", \" \")\n",
    "        text = sent_tokenize(text)\n",
    "        return text\n",
    "    else:\n",
    "        return text\n",
    "\n",
    "df_telegram_copy['messageText'] = df_telegram_copy['messageText'].apply(remove_stopwords).apply(remove_html).apply(remove_url).apply(remove_emojis).apply(convert_lowercase).apply(tokenize).apply(remove_punctuation)\n",
    "\n",
    "print(df_telegram_copy['messageText'][0])"
   ]
  },
  {
   "cell_type": "markdown",
   "metadata": {},
   "source": [
    "手动划分标签"
   ]
  },
  {
   "cell_type": "code",
   "execution_count": 6,
   "metadata": {},
   "outputs": [],
   "source": [
    "threshold_quality = 2500\n",
    "df_telegram_copy['label'] = df_telegram_copy['forwards'].apply(lambda x: 1 if x >= threshold_quality else 0)"
   ]
  },
  {
   "cell_type": "markdown",
   "metadata": {},
   "source": [
    "pytorch regression"
   ]
  },
  {
   "cell_type": "code",
   "execution_count": 10,
   "metadata": {},
   "outputs": [
    {
     "name": "stderr",
     "output_type": "stream",
     "text": [
      "Some weights of the model checkpoint at bert-base-uncased were not used when initializing BertModel: ['cls.predictions.transform.dense.weight', 'cls.predictions.decoder.weight', 'cls.seq_relationship.weight', 'cls.predictions.transform.LayerNorm.weight', 'cls.predictions.transform.dense.bias', 'cls.seq_relationship.bias', 'cls.predictions.bias', 'cls.predictions.transform.LayerNorm.bias']\n",
      "- This IS expected if you are initializing BertModel from the checkpoint of a model trained on another task or with another architecture (e.g. initializing a BertForSequenceClassification model from a BertForPreTraining model).\n",
      "- This IS NOT expected if you are initializing BertModel from the checkpoint of a model that you expect to be exactly identical (initializing a BertForSequenceClassification model from a BertForSequenceClassification model).\n"
     ]
    }
   ],
   "source": [
    "import torch\n",
    "import torch.nn as nn\n",
    "import torch.optim as optim\n",
    "from transformers import BertTokenizer, AdamW, BertModel\n",
    "from torch.utils.data import DataLoader, TensorDataset\n",
    "from sklearn.model_selection import train_test_split\n",
    "from sklearn.metrics import mean_squared_error, mean_absolute_error\n",
    "import numpy as np\n",
    "import pandas as pd\n",
    "\n",
    "df_clean = pd.read_csv('../../data/telegram/preproceed_data.csv')\n",
    "# devide training and validation dataset\n",
    "X_train, X_val, y_train, y_val = train_test_split(df_clean['messageText'], df_clean['forwards'], test_size=0.2, random_state = 24)\n",
    "\n",
    "# tokenize with pretrained model\n",
    "max_length = 1024\n",
    "tokenizer = BertTokenizer.from_pretrained(\"bert-base-ukrainian-cased\")\n",
    "X_train_encode = tokenizer(list(X_train), truncation=True, padding=True, max_length=max_length, return_tensors=\"pt\")\n",
    "X_val_encode = tokenizer(list(X_val), truncation=True, padding=True, max_length=max_length, return_tensors=\"pt\")\n",
    "\n",
    "train_dateset = TensorDataset(X_train_encode[\"input_ids\"], X_train_encode[\"attention_mask\"], torch.tensor(y_train.values, dtype=torch.float32))\n",
    "val_dataset = TensorDataset(X_val_encode[\"input_ids\"], X_val_encode[\"attention_mask\"], torch.tensor(y_val.values, dtype=torch.float32))\n",
    "\n",
    "batch_size = 32\n",
    "train_loader = DataLoader(train_dateset, batch_size=batch_size, shuffle=True)\n",
    "val_loader = DataLoader(val_dataset, batch_size=batch_size)\n",
    "\n",
    "# regression model\n",
    "class RegressionModel(nn.Module):\n",
    "    def __init__(self):\n",
    "        super(RegressionModel, self).__init__()\n",
    "        self.bert = BertModel.from_pretrained(\"bert-base-ukrainian-cased\")\n",
    "        self.dropout = nn.Dropout(0.2)\n",
    "        self.linear = nn.Linear(768, 1)\n",
    "\n",
    "    def forward(self, input_ids, attention_mask):\n",
    "        output = self.bert(input_ids, attention_mask=attention_mask)\n",
    "        output = output.pooler_output\n",
    "        output = self.dropout(output)\n",
    "        logits = self.linear(output)\n",
    "        return logits\n",
    "\n",
    "model = RegressionModel()\n",
    "\n",
    "Loss = nn.MSELoss()\n",
    "optimizer = optim.AdamW(model.parameters(), lr=2e-5)\n",
    "\n",
    "# train model\n",
    "device = torch.device(\"cuda\" if torch.cuda.is_available() else \"cpu\")\n",
    "model.to(device)\n",
    "epochs = 5\n",
    "\n",
    "def train_model(epochs, train_loader, val_loader):\n",
    "    training_loss = []\n",
    "    validating_loss = []\n",
    "\n",
    "    for epoch in range(epochs):\n",
    "        model.train()\n",
    "        running_loss = 0.0\n",
    "        for batch in train_loader:\n",
    "            input_ids, attention_mask, labels = batch\n",
    "            input_ids, attention_mask, labels = input_ids.to(device), attention_mask.to(device), labels.to(device)\n",
    "            \n",
    "            optimizer.zero_grad()\n",
    "            outputs = model(input_ids, attention_mask)\n",
    "            loss = Loss(outputs.squeeze(1), labels)\n",
    "            loss.backward()\n",
    "            optimizer.step()\n",
    "            \n",
    "            running_loss += loss.item()\n",
    "        \n",
    "        epoch_loss = running_loss / len(train_loader)\n",
    "        training_loss.append(epoch_loss)\n",
    "        print(f\"Epoch {epoch + 1}/{epochs}, Loss: {epoch_loss:.4f}\")\n",
    "\n",
    "        # evaluate model\n",
    "        model.eval()\n",
    "        val_loss = 0.0\n",
    "        predictions = []\n",
    "\n",
    "        with torch.no_grad():\n",
    "            for batch in val_loader:\n",
    "                input_ids, attention_mask, labels = batch\n",
    "                input_ids, attention_mask, labels = input_ids.to(device), attention_mask.to(device), labels.to(device)\n",
    "                \n",
    "                outputs = model(input_ids, attention_mask)\n",
    "                loss = Loss(outputs.squeeze(1), labels)\n",
    "                val_loss += loss.item()\n",
    "                \n",
    "                predictions.extend(outputs.cpu().squeeze(1).numpy())\n",
    "\n",
    "        val_loss /= len(val_loader)\n",
    "        validating_loss.append(val_loss)\n",
    "        print(f\"Validation Loss: {val_loss:.4f}\")\n",
    "\n",
    "        # evaluation matrics\n",
    "        predictions = np.array(predictions)\n",
    "        mse = mean_squared_error(y_val, predictions)\n",
    "        mae = mean_absolute_error(y_val, predictions)\n",
    "\n",
    "        print(f\"Mean Squared Error: {mse:.4f}\")\n",
    "        print(f\"Mean Absolute Error: {mae:.4f}\")\n",
    "    \n",
    "    return model, training_loss, validating_loss, predictions\n",
    "\n",
    "def plot_loss(training_loss, validating_loss):\n",
    "    plt.figure(figsize=(10, 5))\n",
    "    plt.plot(range(1, len(training_loss) + 1), training_loss, label='Training Loss', marker='o')\n",
    "    plt.plot(range(1, len(validating_loss) + 1), validating_loss, label='Validation Loss', marker='o')\n",
    "    plt.xlabel('Epochs')\n",
    "    plt.ylabel('Loss')\n",
    "    plt.title('Training and Validation Loss')\n",
    "    plt.legend()\n",
    "    plt.grid(True)\n",
    "    plt.show()\n",
    "    \n",
    "def plot_scatter(y_val, predictions):\n",
    "    predictions = np.array(predictions)\n",
    "    y_val = np.array(y_val)\n",
    "    plt.figure(figsize=(10, 6))\n",
    "    plt.scatter(y_val, predictions, c='blue', alpha=0.5)\n",
    "    plt.title('Scatter Plot of Predictions vs Real Values')\n",
    "    plt.xlabel('Real Values')\n",
    "    plt.ylabel('Predicted Values')\n",
    "    plt.grid(True)\n",
    "    plt.show()\n",
    "    "
   ]
  },
  {
   "cell_type": "code",
   "execution_count": 12,
   "metadata": {},
   "outputs": [
    {
     "name": "stdout",
     "output_type": "stream",
     "text": [
      "Epoch 1/5, Loss: 2945318.2323\n",
      "Validation Loss: 994527.0432\n",
      "Mean Squared Error: 995865.5656\n",
      "Mean Absolute Error: 302.3334\n",
      "Epoch 2/5, Loss: 2927516.3415\n",
      "Validation Loss: 991992.1431\n",
      "Mean Squared Error: 993329.6759\n",
      "Mean Absolute Error: 298.1050\n",
      "Epoch 3/5, Loss: 2925007.2335\n",
      "Validation Loss: 990410.0837\n",
      "Mean Squared Error: 991747.0969\n",
      "Mean Absolute Error: 295.4382\n",
      "Epoch 4/5, Loss: 2924161.7178\n",
      "Validation Loss: 989088.2758\n",
      "Mean Squared Error: 990424.7768\n",
      "Mean Absolute Error: 293.1920\n",
      "Epoch 5/5, Loss: 2921691.3137\n",
      "Validation Loss: 987838.1685\n",
      "Mean Squared Error: 989174.2008\n",
      "Mean Absolute Error: 291.0512\n"
     ]
    },
    {
     "data": {
      "image/png": "[encoded data removed]",
      "text/plain": [
       "<Figure size 720x360 with 1 Axes>"
      ]
     },
     "metadata": {
      "needs_background": "light"
     },
     "output_type": "display_data"
    },
    {
     "data": {
      "image/png": "[encoded data removed]",
      "text/plain": [
       "<Figure size 720x432 with 1 Axes>"
      ]
     },
     "metadata": {
      "needs_background": "light"
     },
     "output_type": "display_data"
    }
   ],
   "source": [
    "# train model\n",
    "model_bert_32_5, training_loss, validating_loss, predictions = train_model(epochs, train_loader, val_loader)\n",
    "\n",
    "# plot\n",
    "plot_loss(training_loss, validating_loss)\n",
    "plot_scatter(y_val, predictions)"
   ]
  },
  {
   "cell_type": "code",
   "execution_count": 9,
   "metadata": {},
   "outputs": [],
   "source": [
    "torch.save(model_bert_32_5.state_dict(), 'bert_regression_model_01.pth')"
   ]
  }
 ],
 "metadata": {
  "kernelspec": {
   "display_name": "IML",
   "language": "python",
   "name": "python3"
  },
  "language_info": {
   "codemirror_mode": {
    "name": "ipython",
    "version": 3
   },
   "file_extension": ".py",
   "mimetype": "text/x-python",
   "name": "python",
   "nbconvert_exporter": "python",
   "pygments_lexer": "ipython3",
   "version": "3.8.12"
  },
  "orig_nbformat": 4
 },
 "nbformat": 4,
 "nbformat_minor": 2
}
