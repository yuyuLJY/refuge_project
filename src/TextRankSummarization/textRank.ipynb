{
 "cells": [
  {
   "cell_type": "code",
   "execution_count": 29,
   "metadata": {},
   "outputs": [],
   "source": [
    "import numpy as np\n",
    "import pandas as pd\n",
    "import matplotlib.pyplot as plt\n",
    "import nltk\n",
    "from nltk.tokenize import word_tokenize, sent_tokenize\n",
    "from nltk.corpus import stopwords\n",
    "from nltk.stem import SnowballStemmer\n",
    "import re\n",
    "from tqdm import tqdm\n",
    "import string\n"
   ]
  },
  {
   "cell_type": "code",
   "execution_count": 30,
   "metadata": {},
   "outputs": [
    {
     "name": "stdout",
     "output_type": "stream",
     "text": [
      "   Unnamed: 0                           chat      country state city  views  \\\n",
      "0           0  https://t.me/helpfulinfoforua  Switzerland   NaN  NaN   7159   \n",
      "1           8    https://t.me/ukraine_reborn  Switzerland   NaN  NaN   2803   \n",
      "2          10    https://t.me/ukraine_reborn  Switzerland   NaN  NaN   4659   \n",
      "3          15    https://t.me/ukraine_reborn  Switzerland   NaN  NaN   2084   \n",
      "4          20    https://t.me/ukraine_reborn  Switzerland   NaN  NaN   6558   \n",
      "\n",
      "   forwards  replies                                        messageText  \\\n",
      "0        42      124  👋Вітаємо на каналі КОРИСНО (HELPFUL) Швейцарсь...   \n",
      "1        54        0  🇺🇦 Пікнік. Український борщ (Женева)\\n\\nАсоціа...   \n",
      "2        61       11  🇺🇦 Запис на літні заходи Passeport vacances \\n...   \n",
      "3        73        0  🇺🇦 Консультація з освіти у Швейцарії\\n\\nOlga B...   \n",
      "4       123        1  🇺🇦 Особливості роботи в Швейцарії \\n\\nЗапрошує...   \n",
      "\n",
      "  predicted_class messageDate  \n",
      "0    Volunteering  2022-07-14  \n",
      "1       Education  2022-06-07  \n",
      "2       Education  2022-05-20  \n",
      "3       Education  2022-05-13  \n",
      "4    Volunteering  2022-05-13  \n"
     ]
    }
   ],
   "source": [
    "csv_path = '../../data/telegram/scrape.telegram_forwardsGT30_TokensGT100.csv'\n",
    "df_telegram = pd.read_csv(csv_path)\n",
    "df_telegram_copy = df_telegram.copy()\n",
    "\n",
    "df_head_copy = df_telegram_copy.head()\n",
    "print(df_head_copy)"
   ]
  },
  {
   "cell_type": "code",
   "execution_count": 3,
   "metadata": {},
   "outputs": [
    {
     "name": "stderr",
     "output_type": "stream",
     "text": [
      "[nltk_data] Downloading package stopwords to\n",
      "[nltk_data]     C:\\Users\\86183\\AppData\\Roaming\\nltk_data...\n",
      "[nltk_data]   Package stopwords is already up-to-date!\n",
      "[nltk_data] Downloading package punkt to\n",
      "[nltk_data]     C:\\Users\\86183\\AppData\\Roaming\\nltk_data...\n",
      "[nltk_data]   Package punkt is already up-to-date!\n"
     ]
    }
   ],
   "source": [
    "nltk.download('stopwords')\n",
    "nltk.download('punkt')\n",
    "# stopwords, add ukrainian stopwords from .txt file\n",
    "stopWords = stopwords.words('english') \n",
    "for word in stopwords.words('german'):\n",
    "    stopWords.append(word)\n",
    "for word in stopwords.words('french'):\n",
    "    stopWords.append(word)\n",
    "for word in stopwords.words('italian'):\n",
    "    stopWords.append(word)\n",
    "for word in stopwords.words('russian'):\n",
    "    stopWords.append(word)\n",
    "with open(\"../../data/stopwords/stopwords_ua.txt\") as file: #add ukrainian stopwords loaded from .txt file\n",
    "    ukrstopWords = [line.rstrip() for line in file]\n",
    "for stopwords in ukrstopWords:\n",
    "    stopWords.append(stopwords)"
   ]
  },
  {
   "cell_type": "markdown",
   "metadata": {},
   "source": [
    "data preprocessing"
   ]
  },
  {
   "cell_type": "code",
   "execution_count": 32,
   "metadata": {},
   "outputs": [
    {
     "name": "stdout",
     "output_type": "stream",
     "text": [
      "👋Вітаємо на каналі КОРИСНО (HELPFUL) Швейцарського Червоного Хреста.\\nМи — група волонтерів, яка допоможе вам знайти відповіді на ваші запитання. Ми намагаємось відповідати впродовж 24 годин. Відповіді на запитання надаються з понеділка по п’ятницю. \\n\\nПерш ніж поставити своє запитання, просимо вас спочатку переглянути веб-сайт КОРИСНО (HELPFUL): helpful.redcross.ch\\n\\nНа цьому каналі можна використовувати українську, російську, англійську та державні мови Швейцарії. Ми відповідатимемо здебільшого державними мовами Швейцарії та пропонуватимемо перекласти наші відповіді. Для цього скористайтеся функцією «перекладу», яку пропонує Telegram. Указівки та коментарі наведено нижче.\\n\\n⚠️Оскільки це публічний канал, ваші коментарі бачитимуть всі бажаючі.\\nЯкщо у вас є запитання, що передбачає розкриття особистої інформації, просимо вас додати в коментарі значок ✉️.\\nТоді ми надішлемо вам приватне повідомлення в зашифрованому чаті.\\n\\n📍Відповіді на деякі питання були надані в приватних повідомленнях. Просимо вас писати під відповідними секціями в основному каналі. \\n\\n____\\n\\n👋Добро пожаловать на канал HELPFUL Швейцарского Красного Креста. \\nМы - команда волонтеров и готовы помочь вам найти ответы на ваши вопросы. Мы стараемся давать ответы в течение 24 часов. Мы будем отвечать на ваши вопросы с понедельника по пятницу.  \\n\\nПрежде чем задать свой вопрос, просим вас сначала заглянуть на сайт HELPFUL: helpful.redcross.ch.\\n\\nНа этом канале используются украинский, русский, английский или швейцарские государственные языки. Мы будем отвечать преимущественно на языках, используемых в Швейцарии, и просим вас переводить наши ответы.  Для этого воспользуйтесь опцией \"перевести\", имеющейся в Telegram. Смотрите инструкции в комментариях ниже. \\n\\n⚠️Поскольку этот канал является публичным, ваши комментарии сможет увидеть каждый.\\nЕсли у вас есть вопрос, подразумевающий предоставления каких-то личных данных, просим вас отправить значок ✉️ в комментарии.\\nПосле этого мы отправим вам личное сообщение в защищенном чате.\\n\\n___\\n\\n👋 Welcome to the channel HELPFUL by the Swiss Red Cross.\\nWe are a team of volunteers and will help you find answers to your questions. We aim to respond within 24 hours. The questions will be answered from Monday to Friday. \\n\\nBefore asking your question, we ask you to please first check the HELPFUL website: helpful.redcross.ch\\n\\nThe languages used in this channel are Ukrainian, Russian, English or the Swiss national languages. We will mainly answer using the Swiss national languages and ask you to translate our answers. To do this please use the option “translate” provided by Telegram. See instructions in the comments below.\\n\\n⚠️ As this channel is public, your comments will be seen by everyone.\\nIf you have a question that requires sharing some personal data, we ask you to send the icon ✉️ in the comment.\\nWe will then send you a private message in a secured chat.\\n\\n📍Some answers are provided in private messages. We also please ask you to write under the appropriate sections in the main channel.\n",
      "['вітаємо каналі корисно helpful швейцарського червоного хрестаnми — група волонтерів допоможе знайти відповіді запитання', 'ми намагаємось відповідати 24 годин', 'відповіді запитання надаються понеділка п’ятницю', 'nnперш поставити запитання просимо переглянути вебсайт корисно helpful helpfulredcrosschnnна каналі використовувати українську російську англійську державні мови швейцарії', 'ми відповідатимемо здебільшого державними мовами швейцарії пропонуватимемо перекласти відповіді', 'для скористайтеся функцією «перекладу» пропонує telegram', 'указівки коментарі наведено нижчеnnоскільки публічний канал коментарі бачитимуть бажаючіnякщо запитання передбачає розкриття особистої інформації просимо додати коментарі значок nтоді надішлемо приватне повідомлення зашифрованому чатіnnвідповіді питання надані приватних повідомленнях', 'просимо писати відповідними секціями основному каналі', 'nnnnдобро пожаловать канал helpful швейцарского красного креста', 'nмы  команда волонтеров готовы помочь найти ответы вопросы', 'мы стараемся давать ответы течение 24 часов', 'мы отвечать вопросы понедельника пятницу', 'nnпрежде задать вопрос просим заглянуть сайт helpful helpfulredcrosschnnна канале используются украинский русский английский швейцарские государственные языки', 'мы отвечать преимущественно языках используемых швейцарии просим переводить ответы', 'для воспользуйтесь опцией перевести имеющейся telegram', 'смотрите инструкции комментариях ниже', 'nnпоскольку канал является публичным комментарии увидеть каждыйnесли вопрос подразумевающий предоставления какихто личных данных просим отправить значок  комментарииnпосле отправим личное сообщение защищенном чатеnnnn welcome channel helpful swiss red crossnwe team volunteers help find answers questions', 'we aim respond 24 hours', 'the questions answered monday friday', 'nnbefore asking question ask check helpful website helpfulredcrosschnnthe languages channel ukrainian russian english swiss national languages', 'we mainly answer swiss national languages ask translate answers', 'to use option “translate” provided telegram', 'see instructions comments belownn as channel public comments seen everyonenif question requires sharing personal data ask send icon  commentnwe send private message secured chatnnsome answers provided private messages', 'we ask write appropriate sections main channel']\n"
     ]
    }
   ],
   "source": [
    "print(df_telegram_copy['messageText'][0])\n",
    "\n",
    "# removing stopwords\n",
    "def remove_stopwords(text):\n",
    "    if len(text) > 50:\n",
    "        new_text = []\n",
    "        for word in text.split():\n",
    "            if word in stopWords:\n",
    "                continue\n",
    "            else:\n",
    "                new_text.append(word)\n",
    "        return ' '.join(new_text)\n",
    "    else:\n",
    "        return text\n",
    "\n",
    "# removing HTML Tags\n",
    "def remove_html(text):\n",
    "    if len(text) > 50:\n",
    "        remove_ = re.compile('<.*?')\n",
    "        return re.sub(remove_, r'', text)\n",
    "    else:\n",
    "        return text\n",
    "\n",
    "# removing URLs\n",
    "def remove_url(text):\n",
    "    if len(text) > 50:\n",
    "        re_url = re.compile('https?://\\S+|www\\.\\S+')\n",
    "        return re_url.sub('', text)\n",
    "    else:\n",
    "        return text\n",
    "\n",
    "# removing emojis, from git\n",
    "def remove_emojis(text):\n",
    "    if len(text) > 50:\n",
    "        emoji_pattern = re.compile(pattern=\"[\"\n",
    "            u\"\\U0001F600-\\U0001F64F\"  # emoticons\n",
    "            u\"\\U0001F300-\\U0001F5FF\"  # symbols & pictographs\n",
    "            u\"\\U0001F680-\\U0001F6FF\"  # transport & map symbols\n",
    "            u\"\\U0001F700-\\U0001F77F\"  # alchemical symbols\n",
    "            u\"\\U0001F780-\\U0001F7FF\"  # Geometric Shapes Extended\n",
    "            u\"\\U0001F800-\\U0001F8FF\"  # Supplemental Arrows-C\n",
    "            u\"\\U0001F900-\\U0001F9FF\"  # Supplemental Symbols and Pictographs\n",
    "            u\"\\U0001FA00-\\U0001FA6F\"  # Chess Symbols\n",
    "            u\"\\U0001FA70-\\U0001FAFF\"  # Symbols and Pictographs Extended-A\n",
    "            u\"\\U00002702-\\U000027B0\"  # Dingbats\n",
    "            u\"\\U000024C2-\\U0001F251\"\n",
    "            \"]+\", flags=re.UNICODE)\n",
    "        return emoji_pattern.sub(r'', text)\n",
    "    else:\n",
    "        return text\n",
    "\n",
    "# lowercasing\n",
    "def convert_lowercase(text):\n",
    "    if len(text) > 50:\n",
    "        text = text.lower()\n",
    "        return text\n",
    "    else:\n",
    "        return text\n",
    "\n",
    "# removing punctuation\n",
    "def remove_punctuation(sentences):\n",
    "    cleaned_sentences = []\n",
    "    translator = str.maketrans('', '', string.punctuation)\n",
    "    for sentence in sentences:\n",
    "        cleaned_sentence = sentence.translate(translator)\n",
    "        cleaned_sentences.append(cleaned_sentence)\n",
    "    return cleaned_sentences\n",
    "\n",
    "# tokenization \n",
    "def tokenize(text):\n",
    "    if len(text) > 50:\n",
    "        text = text.replace(\"\\n\", \" \")\n",
    "        text = sent_tokenize(text)\n",
    "        return text\n",
    "    else:\n",
    "        return text\n",
    "\n",
    "df_telegram_copy['messageText'] = df_telegram_copy['messageText'].apply(remove_stopwords).apply(remove_html).apply(remove_url).apply(remove_emojis).apply(convert_lowercase).apply(tokenize).apply(remove_punctuation)\n",
    "\n",
    "print(df_telegram_copy['messageText'][0])"
   ]
  },
  {
   "cell_type": "code",
   "execution_count": 33,
   "metadata": {},
   "outputs": [
    {
     "data": {
      "text/plain": [
       "['18 липня європейський парламент підтримав рішення розширення визнання українських посвідчень водія',\n",
       " 'n nвідтепер єс можна n n користуватись українським посвідченням водія необхідності обміну періоду перебування захистом n n користуватися посвідченнями водія старого зразка оформленими кирилицею наявності завіреного перекладу міжнародного посвідчення водія',\n",
       " 'але документ підтвердження особи n n  користуватись виданими вперше 2 українським посвідченням водія разі закінчення терміну дії n n отримати складання іспитів тимчасове на період перебування захистом посвідчення водія зразка єс разі втрати викраденняукраїнського посвідчення водія',\n",
       " 'n nчерез 5 днів публікації відповідний регламент набуде чинностіn nперевіряти українські документи європейські колеги зможуть онлайн сайті сервісного центру мвс застосунок дія',\n",
       " 'nдетальніше']"
      ]
     },
     "execution_count": 33,
     "metadata": {},
     "output_type": "execute_result"
    }
   ],
   "source": [
    "df_telegram_copy['messageText'][90]"
   ]
  },
  {
   "cell_type": "markdown",
   "metadata": {},
   "source": [
    "TextRank with TF-IDF"
   ]
  },
  {
   "cell_type": "code",
   "execution_count": 24,
   "metadata": {},
   "outputs": [],
   "source": [
    "import networkx as nx\n",
    "from sklearn.feature_extraction.text import TfidfVectorizer\n",
    "\n",
    "class TfIdfTextSummarizer:\n",
    "    def __init__(self):\n",
    "        # Initialize with TF-IDF vectorizer\n",
    "        self.tfidf_vectorizer = TfidfVectorizer()\n",
    "        \n",
    "    # Calculate TF-IDF similarity\n",
    "    def calculate_similarity(self, sentence1, sentence2):\n",
    "        if not sentence1.strip() or not sentence2.strip():\n",
    "            return 0.0\n",
    "        try:\n",
    "            tfidf_matrix = self.tfidf_vectorizer.fit_transform([sentence1, sentence2])\n",
    "            similarity_score = (tfidf_matrix * tfidf_matrix.T).toarray()[0, 1]\n",
    "            return similarity_score\n",
    "        except Exception as e:\n",
    "            print(\"Error calculating similarity for the following sentences:\")\n",
    "            print(\"Sentence 1:\", sentence1)\n",
    "            print(\"Sentence 2:\", sentence2)\n",
    "            print(\"Error message:\", str(e))\n",
    "            return 0.0\n",
    "        \n",
    "    # Build TextRank graph\n",
    "    def build_text_rank_graph(self, sentences):\n",
    "        G = nx.Graph() \n",
    "        for sentence in sentences:\n",
    "            G.add_node(sentence)\n",
    "        for sentence1 in sentences:\n",
    "            for sentence2 in sentences:\n",
    "                if sentence1 != sentence2:\n",
    "                    similarity_score = self.calculate_similarity(sentence1, sentence2)\n",
    "                    G.add_edge(sentence1, sentence2, weight=similarity_score)\n",
    "        return G\n",
    "\n",
    "    # generate summarization with textrank\n",
    "    def text_rank_summary(self, text):\n",
    "        sentences = text\n",
    "        graph = self.build_text_rank_graph(sentences)\n",
    "        scores = nx.pagerank(graph, weight='weight')\n",
    "        max_score = max(scores.values())\n",
    "        top_sentences = [sentence for sentence, score in scores.items() if score == max_score]\n",
    "        summary = top_sentences[0] \n",
    "        return summary, max_score"
   ]
  },
  {
   "cell_type": "code",
   "execution_count": 26,
   "metadata": {},
   "outputs": [],
   "source": [
    "output_path = '../../data/summarization/prediction_textrank-sum.csv'\n",
    "df_telegram_copy_2 = df_telegram.copy()\n",
    "summarizer = TfIdfTextSummarizer()\n",
    "df_telegram_copy_2['summary'], df_telegram_copy_2['max_score'] = zip(*df_telegram_copy['messageText'].apply(summarizer.text_rank_summary))\n",
    "df_telegram_copy_2.to_csv(output_path, index=False, encoding='utf-8')"
   ]
  },
  {
   "cell_type": "markdown",
   "metadata": {},
   "source": [
    "TextRank with Bert model"
   ]
  },
  {
   "cell_type": "code",
   "execution_count": 34,
   "metadata": {},
   "outputs": [],
   "source": [
    "\n",
    "import networkx as nx\n",
    "from transformers import AutoTokenizer, AutoModel\n",
    "from sklearn.metrics.pairwise import cosine_similarity\n",
    "import torch\n",
    "\n",
    "class BertTextSummarizer:\n",
    "    def __init__(self):\n",
    "        self.tokenizer = AutoTokenizer.from_pretrained(\"bert-base-multilingual-cased\")\n",
    "        self.model = AutoModel.from_pretrained(\"bert-base-multilingual-cased\")\n",
    "        \n",
    "    # calculate sentence embeddings using bert\n",
    "    def embedding_bert(self, sentence):\n",
    "        input_ids = self.tokenizer(sentence, return_tensors=\"pt\", padding=True, truncation=True)[\"input_ids\"]\n",
    "        with torch.no_grad():\n",
    "            outputs = self.model(input_ids)\n",
    "            sentence_embedding = torch.mean(outputs.last_hidden_state, dim=1).squeeze(0).numpy()\n",
    "        return sentence_embedding\n",
    "    \n",
    "    # Build TextRank graph using BERT embeddings\n",
    "    def build_text_rank_graph(self, sentences):\n",
    "        G = nx.Graph()\n",
    "        num_sentences = len(sentences)\n",
    "        sentence_embedding = [self.embedding_bert(sentence) for sentence in sentences]\n",
    "        for i in range(num_sentences):\n",
    "            for j in range(i + 1, num_sentences):\n",
    "                embedding1 = sentence_embedding[i]\n",
    "                embedding2 = sentence_embedding[j]\n",
    "                similarity_score = cosine_similarity([embedding1], [embedding2])[0][0]\n",
    "                G.add_edge(sentences[i], sentences[j], weight=similarity_score)\n",
    "        return G\n",
    "    \n",
    "    # generate summarization with textrank\n",
    "    def text_rank_summary(self, text):\n",
    "        sentences = text\n",
    "        graph = self.build_text_rank_graph(sentences)\n",
    "        scores = nx.pagerank(graph, weight='weight')\n",
    "        if not scores:\n",
    "            return \"\", 0.0\n",
    "        max_score = max(scores.values())\n",
    "        top_sentences = [sentence for sentence, score in scores.items() if score == max_score]\n",
    "        summary = top_sentences[0] \n",
    "        return summary, max_score"
   ]
  },
  {
   "cell_type": "code",
   "execution_count": 35,
   "metadata": {},
   "outputs": [
    {
     "name": "stderr",
     "output_type": "stream",
     "text": [
      "Some weights of the model checkpoint at bert-base-multilingual-cased were not used when initializing BertModel: ['cls.predictions.transform.dense.bias', 'cls.predictions.transform.dense.weight', 'cls.predictions.bias', 'cls.seq_relationship.weight', 'cls.predictions.transform.LayerNorm.bias', 'cls.seq_relationship.bias', 'cls.predictions.decoder.weight', 'cls.predictions.transform.LayerNorm.weight']\n",
      "- This IS expected if you are initializing BertModel from the checkpoint of a model trained on another task or with another architecture (e.g. initializing a BertForSequenceClassification model from a BertForPreTraining model).\n",
      "- This IS NOT expected if you are initializing BertModel from the checkpoint of a model that you expect to be exactly identical (initializing a BertForSequenceClassification model from a BertForSequenceClassification model).\n"
     ]
    }
   ],
   "source": [
    "output_path = '../../data/summarization/prediction_textrank-sum-bert.csv'\n",
    "df_telegram_copy_bert = df_telegram.copy()\n",
    "summarizer_bert = BertTextSummarizer()\n",
    "df_telegram_copy_bert['summary'], df_telegram_copy_bert['max_score'] = zip(*df_telegram_copy['messageText'].apply(summarizer_bert.text_rank_summary))\n",
    "df_telegram_copy_bert.to_csv(output_path, index=False, encoding='utf-8')"
   ]
  }
 ],
 "metadata": {
  "kernelspec": {
   "display_name": "IML",
   "language": "python",
   "name": "python3"
  },
  "language_info": {
   "codemirror_mode": {
    "name": "ipython",
    "version": 3
   },
   "file_extension": ".py",
   "mimetype": "text/x-python",
   "name": "python",
   "nbconvert_exporter": "python",
   "pygments_lexer": "ipython3",
   "version": "3.8.12"
  }
 },
 "nbformat": 4,
 "nbformat_minor": 2
}
